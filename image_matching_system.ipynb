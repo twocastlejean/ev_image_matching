{
  "cells": [
    {
      "cell_type": "code",
      "execution_count": 2,
      "metadata": {
        "id": "IeOssKgYEQMS"
      },
      "outputs": [],
      "source": [
        "import os\n",
        "import cv2\n",
        "import numpy as np\n",
        "from matplotlib import pyplot as plt"
      ]
    },
    {
      "cell_type": "markdown",
      "metadata": {
        "id": "cxNRtiDuE59X"
      },
      "source": [
        "## Prepare test data"
      ]
    },
    {
      "cell_type": "code",
      "execution_count": null,
      "metadata": {
        "colab": {
          "base_uri": "https://localhost:8080/"
        },
        "id": "gucFrN5eEaHz",
        "outputId": "4e54c578-2a8e-41bd-8aa6-77d565b9a869"
      },
      "outputs": [
        {
          "name": "stdout",
          "output_type": "stream",
          "text": [
            "Cloning into 'recaptcha-dataset'...\n",
            "remote: Enumerating objects: 11754, done.\u001b[K\n",
            "remote: Counting objects: 100% (12/12), done.\u001b[K\n",
            "remote: Compressing objects: 100% (12/12), done.\u001b[K\n",
            "remote: Total 11754 (delta 5), reused 1 (delta 0), pack-reused 11742\u001b[K\n",
            "Receiving objects: 100% (11754/11754), 395.64 MiB | 22.89 MiB/s, done.\n",
            "Resolving deltas: 100% (6/6), done.\n",
            "Updating files: 100% (11779/11779), done.\n"
          ]
        }
      ],
      "source": [
        "# !git clone https://github.com/hbcbh1999/recaptcha-dataset.git"
      ]
    },
    {
      "cell_type": "markdown",
      "metadata": {
        "id": "yjUnLwuZE8xy"
      },
      "source": [
        "### Preprocessing"
      ]
    },
    {
      "cell_type": "code",
      "execution_count": 50,
      "metadata": {
        "id": "ZXAX2YZsEkGT"
      },
      "outputs": [],
      "source": [
        "image_dir = \"C:/Users/user/Desktop/2025 컴퓨터비전/Challange1/testset\"\n",
        "image_list = []\n",
        "\n",
        "for fname in sorted(os.listdir(image_dir)):\n",
        "    if fname.endswith(\".png\"):\n",
        "        img_path = os.path.join(image_dir, fname)\n",
        "        image = cv2.imread(img_path)\n",
        "\n",
        "        if image is None:\n",
        "            print(f\"이미지 로딩 실패: {img_path}\")\n",
        "            continue \n",
        "        \n",
        "        gray = cv2.cvtColor(image, cv2.COLOR_BGR2GRAY)\n",
        "        gray = cv2.equalizeHist(gray)\n",
        "        image_list.append((fname, gray))"
      ]
    },
    {
      "cell_type": "markdown",
      "metadata": {
        "id": "k2S8OPdkhabM"
      },
      "source": [
        "## Feature extraction"
      ]
    },
    {
      "cell_type": "code",
      "execution_count": 38,
      "metadata": {},
      "outputs": [],
      "source": [
        "def norm_hist(hist):\n",
        "    # Normalize the histogram\n",
        "    hist = hist.astype('float')\n",
        "    hist /= hist.sum()\n",
        "    return hist"
      ]
    },
    {
      "cell_type": "markdown",
      "metadata": {
        "id": "QP9DlAdThipD"
      },
      "source": [
        "### LBP"
      ]
    },
    {
      "cell_type": "code",
      "execution_count": 51,
      "metadata": {
        "colab": {
          "base_uri": "https://localhost:8080/",
          "height": 331
        },
        "id": "GDlrmIUIhgEB",
        "outputId": "5bd169e1-5d31-4b03-e514-138ef1cab301"
      },
      "outputs": [],
      "source": [
        "from skimage.feature import local_binary_pattern\n",
        "\n",
        "lbp_features = []\n",
        "\n",
        "# LBP\n",
        "for fname, gray in image_list:\n",
        "    lbp = local_binary_pattern(gray, P=8, R=1)\n",
        "\n",
        "    hist_lbp, bin_lbp = np.histogram(lbp.ravel(), bins=64, range=(0, 256))\n",
        "    hist_lbp = norm_hist(hist_lbp)    # 64-d\n",
        "    lbp_features.append((fname, hist_lbp))"
      ]
    },
    {
      "cell_type": "markdown",
      "metadata": {
        "id": "UVMY-2qMhsWD"
      },
      "source": [
        "### Law's texture"
      ]
    },
    {
      "cell_type": "code",
      "execution_count": 53,
      "metadata": {
        "colab": {
          "base_uri": "https://localhost:8080/"
        },
        "id": "y9oDJdUDhraJ",
        "outputId": "b65358e1-dc1c-4dc2-9d1e-65e3564b7f18"
      },
      "outputs": [],
      "source": [
        "# Law's texture\n",
        "from scipy import signal as sg\n",
        "\n",
        "def laws_texture(gray):\n",
        "    (rows, cols) = gray.shape[:2]\n",
        "\n",
        "    smooth_kernel = (1/25)*np.ones((5,5))\n",
        "    gray_smooth = sg.convolve(gray, smooth_kernel,\"same\")\n",
        "    gray_processed = np.abs(gray - gray_smooth)\n",
        "\n",
        "    filter_vectors = np.array([[ 1,  4,  6,  4, 1],    # L5\n",
        "                               [-1, -2,  0,  2, 1],    # E5\n",
        "                               [-1,  0,  2,  0, 1],    # S5\n",
        "                               [ 1, -4,  6, -4, 1]])   # R5\n",
        "\n",
        "    # 0:L5L5, 1:L5E5, 2:L5S5, 3:L5R5,\n",
        "    # 4:E5L5, 5:E5E5, 6:E5S5, 7:E5R5,\n",
        "    # 8:S5L5, 9:S5E5, 10:S5S5, 11:S5R5,\n",
        "    # 12:R5L5, 13:R5E5, 14:R5S5, 15:R5R5\n",
        "    filters = list()\n",
        "    for i in range(4):\n",
        "        for j in range(4):\n",
        "            filters.append(np.matmul(filter_vectors[i][:].reshape(5,1),\n",
        "                                     filter_vectors[j][:].reshape(1,5)))\n",
        "\n",
        "    conv_maps = np.zeros((rows, cols,16))\n",
        "    for i in range(len(filters)):\n",
        "        conv_maps[:, :, i] = sg.convolve(gray_processed,\n",
        "                                         filters[i],'same')\n",
        "\n",
        "    texture_maps = list()\n",
        "    texture_maps.append((conv_maps[:, :, 1]+conv_maps[:, :, 4])//2)     # L5E5 / E5L5\n",
        "    texture_maps.append((conv_maps[:, :, 2]+conv_maps[:, :, 8])//2)     # L5S5 / S5L5\n",
        "    texture_maps.append((conv_maps[:, :, 3]+conv_maps[:, :, 12])//2)    # L5R5 / R5L5\n",
        "    texture_maps.append((conv_maps[:, :, 7]+conv_maps[:, :, 13])//2)    # E5R5 / R5E5\n",
        "    texture_maps.append((conv_maps[:, :, 6]+conv_maps[:, :, 9])//2)     # E5S5 / S5E5\n",
        "    texture_maps.append((conv_maps[:, :, 11]+conv_maps[:, :, 14])//2)   # S5R5 / R5S5\n",
        "    texture_maps.append(conv_maps[:, :, 10])                            # S5S5\n",
        "    texture_maps.append(conv_maps[:, :, 5])                             # E5E5\n",
        "    texture_maps.append(conv_maps[:, :, 15])                            # R5R5\n",
        "    texture_maps.append(conv_maps[:, :, 0])                             # L5L5 (use to norm TEM)\n",
        "\n",
        "    TEM = list()\n",
        "    for i in range(9):\n",
        "        TEM.append(np.abs(texture_maps[i]).sum() / np.abs(texture_maps[9]).sum())\n",
        "\n",
        "    return TEM\n",
        "\n",
        "\n",
        "laws_feature = []\n",
        "\n",
        "for fname, gray in image_list:\n",
        "    laws = laws_texture(gray)    # 9-d\n",
        "    laws_feature.append((fname, np.array(laws)))"
      ]
    },
    {
      "cell_type": "markdown",
      "metadata": {},
      "source": [
        "### Load .npy Files"
      ]
    },
    {
      "cell_type": "code",
      "execution_count": 54,
      "metadata": {},
      "outputs": [],
      "source": [
        "used_features = ['lbp', 'laws']\n",
        "feature_dir = \"C:/Users/user/Desktop/2025 컴퓨터비전/Challange1/prepared\"\n",
        "\n",
        "X_train = np.load(os.path.join(feature_dir, \"X_train_lbp_laws.npy\"))\n",
        "y_train = np.load(os.path.join(feature_dir, \"y_train_lbp_laws.npy\"))"
      ]
    },
    {
      "cell_type": "markdown",
      "metadata": {},
      "source": [
        "### Combine feature vectors"
      ]
    },
    {
      "cell_type": "code",
      "execution_count": 55,
      "metadata": {},
      "outputs": [],
      "source": [
        "test_features = []\n",
        "test_filenames = []\n",
        "\n",
        "for (fname1, lbp), (fname2, laws) in zip(lbp_features, laws_feature):\n",
        "    assert fname1 == fname2, f\"{fname1} != {fname2}\"\n",
        "    combined = np.concatenate([lbp, laws])\n",
        "    test_features.append(combined)\n",
        "    test_filenames.append(fname1)\n",
        "\n",
        "X_test = np.array(test_features)"
      ]
    },
    {
      "cell_type": "markdown",
      "metadata": {
        "id": "OlSt0QyUh3jw"
      },
      "source": [
        "### KNN"
      ]
    },
    {
      "cell_type": "code",
      "execution_count": null,
      "metadata": {
        "colab": {
          "base_uri": "https://localhost:8080/"
        },
        "id": "Ad4y-3QSh5mA",
        "outputId": "651e6f61-167a-403e-d877-6c0251004301"
      },
      "outputs": [],
      "source": [
        "from sklearn.neighbors import KNeighborsClassifier\n",
        "from sklearn.metrics import classification_report\n",
        "\n",
        "classifier = KNeighborsClassifier(n_neighbors = 3)\n",
        "\n",
        "classifier.fit(X_train, y_train)\n",
        "predict_labels = classifier.predict(X_test)"
      ]
    },
    {
      "cell_type": "markdown",
      "metadata": {
        "id": "ZiNZFji3unCA"
      },
      "source": [
        "### Task 1: Classification"
      ]
    },
    {
      "cell_type": "code",
      "execution_count": 67,
      "metadata": {
        "colab": {
          "base_uri": "https://localhost:8080/"
        },
        "id": "NqEXhdlOIImd",
        "outputId": "bce76167-fd56-430b-9f7f-da8c869aa222"
      },
      "outputs": [
        {
          "name": "stdout",
          "output_type": "stream",
          "text": [
            "['Traffic Light' 'Car' 'Crosswalk' 'Car' 'Car' 'Bus' 'Car' 'Bus']\n"
          ]
        }
      ],
      "source": [
        "predict_labels = classifier.predict(test_features)\n",
        "print(predict_labels)    # array(100)"
      ]
    },
    {
      "cell_type": "code",
      "execution_count": 68,
      "metadata": {
        "id": "lZFRaZubI13R"
      },
      "outputs": [],
      "source": [
        "import csv\n",
        "\n",
        "# with open('c1_t1_a1.csv','w') as file :\n",
        "#     write = csv.writer(file)\n",
        "#     for i, predict_label in enumerate(predict_labels):\n",
        "#         write.writerow([f'query{i+1:03}.png', predict_label])\n",
        "\n",
        "with open('c1_t1_a2.csv','w') as file :\n",
        "    writer = csv.writer(file)\n",
        "    for fname, pred in zip(test_filenames, predict_labels):\n",
        "        writer.writerow([fname, pred])"
      ]
    },
    {
      "cell_type": "markdown",
      "metadata": {
        "id": "pOe3xwb0u1Vc"
      },
      "source": [
        "### Task 2: Retrieval"
      ]
    },
    {
      "cell_type": "code",
      "execution_count": 63,
      "metadata": {
        "id": "rcFV9gzcKoqd"
      },
      "outputs": [],
      "source": [
        "neigh_ind = classifier.kneighbors(X=test_features, n_neighbors=10, return_distance=False) # Top-10 results\n",
        "neigh_labels = np.array(y_train)[neigh_ind]"
      ]
    },
    {
      "cell_type": "code",
      "execution_count": 31,
      "metadata": {
        "colab": {
          "base_uri": "https://localhost:8080/"
        },
        "id": "xr0OWnr-vmq9",
        "outputId": "15b72e15-0852-4843-afd5-1473c3c1a574"
      },
      "outputs": [
        {
          "name": "stdout",
          "output_type": "stream",
          "text": [
            "[['Palm' 'Palm' 'Traffic Light' 'Palm' 'Palm' 'Car' 'Car' 'Palm' 'Car'\n",
            "  'Crosswalk']\n",
            " ['Crosswalk' 'Crosswalk' 'Crosswalk' 'Crosswalk' 'Hydrant' 'Car'\n",
            "  'Crosswalk' 'Crosswalk' 'Palm' 'Traffic Light']\n",
            " ['Bicycle' 'Palm' 'Hydrant' 'Crosswalk' 'Crosswalk' 'Crosswalk'\n",
            "  'Crosswalk' 'Palm' 'Crosswalk' 'Palm']\n",
            " ['Hydrant' 'Palm' 'Hydrant' 'Crosswalk' 'Hydrant' 'Palm' 'Traffic Light'\n",
            "  'Hydrant' 'Bus' 'Crosswalk']]\n"
          ]
        }
      ],
      "source": [
        "print(neigh_labels)    # array(100x10)"
      ]
    },
    {
      "cell_type": "code",
      "execution_count": 64,
      "metadata": {
        "id": "6hPrZjbDvo-a"
      },
      "outputs": [],
      "source": [
        "import csv\n",
        "\n",
        "with open('c1_t2_a1.csv','w') as file :\n",
        "    write = csv.writer(file)\n",
        "    for i, neigh_label in enumerate(neigh_labels):\n",
        "        write.writerow([f'query{i+1:03}.png'] + list(neigh_label))"
      ]
    }
  ],
  "metadata": {
    "accelerator": "GPU",
    "colab": {
      "gpuType": "T4",
      "provenance": []
    },
    "kernelspec": {
      "display_name": "Python 3",
      "name": "python3"
    },
    "language_info": {
      "codemirror_mode": {
        "name": "ipython",
        "version": 3
      },
      "file_extension": ".py",
      "mimetype": "text/x-python",
      "name": "python",
      "nbconvert_exporter": "python",
      "pygments_lexer": "ipython3",
      "version": "3.12.0"
    }
  },
  "nbformat": 4,
  "nbformat_minor": 0
}

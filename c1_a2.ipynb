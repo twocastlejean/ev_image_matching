{
  "cells": [
    {
      "cell_type": "code",
      "execution_count": 99,
      "metadata": {
        "id": "IeOssKgYEQMS"
      },
      "outputs": [],
      "source": [
        "import os\n",
        "import cv2\n",
        "import numpy as np\n",
        "from matplotlib import pyplot as plt\n",
        "from skimage.feature import local_binary_pattern, hog, graycomatrix, graycoprops\n",
        "from scipy import signal as sg\n",
        "from tqdm import tqdm"
      ]
    },
    {
      "cell_type": "markdown",
      "metadata": {},
      "source": [
        "## Prepare dataset"
      ]
    },
    {
      "cell_type": "markdown",
      "metadata": {},
      "source": [
        "### feature extraction"
      ]
    },
    {
      "cell_type": "code",
      "execution_count": 100,
      "metadata": {},
      "outputs": [],
      "source": [
        "def preprocess_image(image_path):\n",
        "    image = cv2.imread(image_path)\n",
        "    gray = cv2.cvtColor(image, cv2.COLOR_BGR2GRAY)\n",
        "    gray = cv2.equalizeHist(gray)\n",
        "\n",
        "    gray = cv2.GaussianBlur(gray, (3, 3), 0)\n",
        "\n",
        "    grad_x = cv2.Sobel(gray, cv2.CV_64F, 1, 0, ksize=3)\n",
        "    grad_y = cv2.Sobel(gray, cv2.CV_64F, 0, 1, ksize=3)\n",
        "\n",
        "    grad = cv2.magnitude(grad_x, grad_y)\n",
        "\n",
        "    grad = cv2.normalize(grad, None, 0, 255, cv2.NORM_MINMAX)\n",
        "    grad = grad.astype(np.uint8)\n",
        "    \n",
        "    combined = cv2.addWeighted(gray, 0.7, grad, 0.3, 0)\n",
        "\n",
        "    return image, combined\n",
        "\n",
        "def extract_lbp(gray):\n",
        "    lbp = local_binary_pattern(gray, P=8, R=1, method = 'uniform')\n",
        "    hist, _ = np.histogram(lbp.ravel(), bins=60, range=(0, 60))\n",
        "    hist = hist.astype(\"float\")\n",
        "    hist /= hist.sum()\n",
        "    return hist\n",
        "\n",
        "def extract_glcm(gray):\n",
        "    a_gray = gray.astype(np.uint8)\n",
        "    glcm = graycomatrix(a_gray, distances=[1], angles=[0], levels=256, symmetric=False, normed=True)\n",
        "    features = [\n",
        "        graycoprops(glcm, 'contrast')[0, 0],\n",
        "        graycoprops(glcm, 'dissimilarity')[0, 0],\n",
        "        graycoprops(glcm, 'homogeneity')[0, 0],\n",
        "        graycoprops(glcm, 'energy')[0, 0],\n",
        "        graycoprops(glcm, 'correlation')[0, 0]\n",
        "    ]\n",
        "    return np.array(features)\n",
        "\n",
        "def extract_hog(gray):\n",
        "    resized = cv2.resize(gray, (128, 128))\n",
        "    features = hog(resized,\n",
        "                   orientations=8,\n",
        "                   pixels_per_cell=(8, 8),\n",
        "                   cells_per_block=(2, 2),\n",
        "                   visualize=False,\n",
        "                   block_norm='L2-Hys',\n",
        "                   channel_axis=None)\n",
        "    return features\n",
        "\n",
        "def extract_laws(gray):\n",
        "    (rows, cols) = gray.shape[:2]\n",
        "    smooth_kernel = (1/25)*np.ones((5,5))\n",
        "    gray_smooth = sg.convolve(gray, smooth_kernel,\"same\")\n",
        "    gray_processed = np.abs(gray - gray_smooth)\n",
        "    \n",
        "    filter_vectors = np.array([[ 1,  4,  6,  4, 1],\n",
        "                               [-1, -2,  0,  2, 1],\n",
        "                               [-1,  0,  2,  0, 1],\n",
        "                               [ 1, -4,  6, -4, 1]])\n",
        "\n",
        "    filters = [np.matmul(fv1.reshape(5, 1), fv2.reshape(1, 5))\n",
        "               for fv1 in filter_vectors for fv2 in filter_vectors]\n",
        "\n",
        "    conv_maps = np.zeros((rows, cols, 16))\n",
        "    for i in range(len(filters)):\n",
        "        conv_maps[:, :, i] = sg.convolve(gray_processed, filters[i], 'same')\n",
        "\n",
        "    texture_maps = [\n",
        "        (conv_maps[:, :, 1]+conv_maps[:, :, 4])//2,\n",
        "        (conv_maps[:, :, 2]+conv_maps[:, :, 8])//2,\n",
        "        (conv_maps[:, :, 3]+conv_maps[:, :, 12])//2,\n",
        "        (conv_maps[:, :, 7]+conv_maps[:, :, 13])//2,\n",
        "        (conv_maps[:, :, 6]+conv_maps[:, :, 9])//2,\n",
        "        (conv_maps[:, :, 11]+conv_maps[:, :, 14])//2,\n",
        "        conv_maps[:, :, 10],\n",
        "        conv_maps[:, :, 5],\n",
        "        conv_maps[:, :, 15]\n",
        "    ]\n",
        "    norm_map = conv_maps[:, :, 0]\n",
        "    TEM = [np.abs(tm).sum() / np.abs(norm_map).sum() for tm in texture_maps]\n",
        "    TEM = np.array(TEM)\n",
        "    TEM = TEM / np.linalg.norm(TEM)\n",
        "    return TEM"
      ]
    },
    {
      "cell_type": "markdown",
      "metadata": {},
      "source": [
        "### process dataset"
      ]
    },
    {
      "cell_type": "code",
      "execution_count": 101,
      "metadata": {},
      "outputs": [],
      "source": [
        "def process_dataset(dataset_path, method):\n",
        "    features = []\n",
        "    labels = []\n",
        "\n",
        "    class_dirs = sorted([d for d in os.listdir(dataset_path) if os.path.isdir(os.path.join(dataset_path, d))])\n",
        "    \n",
        "    for cls in class_dirs:\n",
        "        class_path = os.path.join(dataset_path, cls)\n",
        "        image_files = sorted([f for f in os.listdir(class_path) if f.endswith('.png')])\n",
        "        \n",
        "        for img_file in tqdm(image_files, desc=f\"{cls:12s} - {method.upper()}\"):\n",
        "            img_path = os.path.join(class_path, img_file)\n",
        "            image, gray = preprocess_image(img_path)\n",
        "\n",
        "            if method == 'lbp':\n",
        "                feature = extract_lbp(gray)\n",
        "            elif method == 'glcm':\n",
        "                feature = extract_glcm(gray)\n",
        "            elif method == 'hog':\n",
        "                feature = extract_hog(gray)\n",
        "            elif method == 'laws':\n",
        "                feature = extract_laws(gray)\n",
        "            else:\n",
        "                continue\n",
        "\n",
        "            features.append(feature)\n",
        "            labels.append(cls)\n",
        "\n",
        "    return np.array(features), np.array(labels)"
      ]
    },
    {
      "cell_type": "markdown",
      "metadata": {},
      "source": [
        "## Prepare labeled data"
      ]
    },
    {
      "cell_type": "code",
      "execution_count": 102,
      "metadata": {},
      "outputs": [
        {
          "name": "stderr",
          "output_type": "stream",
          "text": [
            "Bicycle      - LBP:   0%|          | 0/800 [00:00<?, ?it/s]"
          ]
        },
        {
          "name": "stderr",
          "output_type": "stream",
          "text": [
            "Bicycle      - LBP: 100%|██████████| 800/800 [00:03<00:00, 209.40it/s]\n",
            "Bridge       - LBP: 100%|██████████| 553/553 [00:02<00:00, 237.01it/s]\n",
            "Bus          - LBP: 100%|██████████| 1229/1229 [00:04<00:00, 272.80it/s]\n",
            "Car          - LBP: 100%|██████████| 3578/3578 [00:18<00:00, 188.34it/s]\n",
            "Chimney      - LBP: 100%|██████████| 56/56 [00:00<00:00, 225.32it/s]\n",
            "Crosswalk    - LBP: 100%|██████████| 1260/1260 [00:04<00:00, 261.09it/s]\n",
            "Hydrant      - LBP: 100%|██████████| 972/972 [00:03<00:00, 288.14it/s]\n",
            "Motorcycle   - LBP: 100%|██████████| 101/101 [00:00<00:00, 279.71it/s]\n",
            "Palm         - LBP: 100%|██████████| 932/932 [00:03<00:00, 284.98it/s]\n",
            "Traffic Light - LBP: 100%|██████████| 811/811 [00:02<00:00, 307.84it/s]\n",
            "Bicycle      - GLCM: 100%|██████████| 800/800 [00:03<00:00, 263.84it/s]\n",
            "Bridge       - GLCM: 100%|██████████| 553/553 [00:02<00:00, 204.10it/s]\n",
            "Bus          - GLCM: 100%|██████████| 1229/1229 [00:04<00:00, 248.69it/s]\n",
            "Car          - GLCM: 100%|██████████| 3578/3578 [00:14<00:00, 252.29it/s]\n",
            "Chimney      - GLCM: 100%|██████████| 56/56 [00:00<00:00, 369.76it/s]\n",
            "Crosswalk    - GLCM: 100%|██████████| 1260/1260 [00:04<00:00, 290.98it/s]\n",
            "Hydrant      - GLCM: 100%|██████████| 972/972 [00:03<00:00, 301.27it/s]\n",
            "Motorcycle   - GLCM: 100%|██████████| 101/101 [00:00<00:00, 271.69it/s]\n",
            "Palm         - GLCM: 100%|██████████| 932/932 [00:03<00:00, 257.70it/s]\n",
            "Traffic Light - GLCM: 100%|██████████| 811/811 [00:03<00:00, 263.19it/s]\n",
            "Bicycle      - HOG: 100%|██████████| 800/800 [00:05<00:00, 143.12it/s]\n",
            "Bridge       - HOG: 100%|██████████| 553/553 [00:05<00:00, 95.49it/s] \n",
            "Bus          - HOG: 100%|██████████| 1229/1229 [00:10<00:00, 114.25it/s]\n",
            "Car          - HOG: 100%|██████████| 3578/3578 [00:35<00:00, 101.07it/s]\n",
            "Chimney      - HOG: 100%|██████████| 56/56 [00:00<00:00, 58.76it/s]\n",
            "Crosswalk    - HOG: 100%|██████████| 1260/1260 [00:16<00:00, 74.51it/s] \n",
            "Hydrant      - HOG: 100%|██████████| 972/972 [00:08<00:00, 111.84it/s]\n",
            "Motorcycle   - HOG: 100%|██████████| 101/101 [00:01<00:00, 74.94it/s]\n",
            "Palm         - HOG: 100%|██████████| 932/932 [00:08<00:00, 112.92it/s]\n",
            "Traffic Light - HOG: 100%|██████████| 811/811 [00:06<00:00, 134.76it/s]\n",
            "Bicycle      - LAWS: 100%|██████████| 800/800 [00:13<00:00, 58.78it/s]\n",
            "Bridge       - LAWS: 100%|██████████| 553/553 [00:11<00:00, 47.44it/s]\n",
            "Bus          - LAWS: 100%|██████████| 1229/1229 [00:19<00:00, 61.57it/s]\n",
            "Car          - LAWS: 100%|██████████| 3578/3578 [01:24<00:00, 42.47it/s]\n",
            "Chimney      - LAWS: 100%|██████████| 56/56 [00:00<00:00, 64.07it/s]\n",
            "Crosswalk    - LAWS: 100%|██████████| 1260/1260 [00:20<00:00, 60.86it/s]\n",
            "Hydrant      - LAWS: 100%|██████████| 972/972 [00:14<00:00, 66.70it/s]\n",
            "Motorcycle   - LAWS: 100%|██████████| 101/101 [00:01<00:00, 61.07it/s]\n",
            "Palm         - LAWS: 100%|██████████| 932/932 [00:19<00:00, 46.76it/s]\n",
            "Traffic Light - LAWS: 100%|██████████| 811/811 [00:30<00:00, 26.93it/s]\n"
          ]
        }
      ],
      "source": [
        "from sklearn.decomposition import PCA\n",
        "\n",
        "dataset_path = \"./recaptcha-dataset/Large\"\n",
        "methods = [\"lbp\", \"glcm\", \"hog\", \"laws\"]\n",
        "\n",
        "loaded = {}\n",
        "\n",
        "for method in methods:\n",
        "    features, labels = process_dataset(dataset_path, method)\n",
        "    loaded[method] = {\n",
        "        'features': features,\n",
        "        'labels': labels\n",
        "    }\n",
        "\n",
        "ref_method = methods[0]\n",
        "assert all((loaded[m]['labels'] == loaded[ref_method]['labels']).all() for m in methods), \"Label mismatch\"\n",
        "\n",
        "X_raw = np.concatenate([loaded[m]['features'] for m in methods], axis=1)\n",
        "y = loaded[ref_method]['labels']\n",
        "\n",
        "pca = PCA(n_components=100)\n",
        "X = pca.fit_transform(X_raw)"
      ]
    },
    {
      "cell_type": "markdown",
      "metadata": {},
      "source": [
        "### feature selection"
      ]
    },
    {
      "cell_type": "code",
      "execution_count": 103,
      "metadata": {},
      "outputs": [],
      "source": [
        "def load_and_concat_features(method_list):\n",
        "    feature_list = []\n",
        "    labels = None\n",
        "    for method in method_list:\n",
        "        data = loaded[method]\n",
        "        feature_list.append(data['features'])\n",
        "        if labels is None:\n",
        "            labels = data['labels']\n",
        "    X_concat = np.concatenate(feature_list, axis=1)\n",
        "    return X_concat, labels"
      ]
    },
    {
      "cell_type": "code",
      "execution_count": 104,
      "metadata": {},
      "outputs": [],
      "source": [
        "from sklearn.neighbors import KNeighborsClassifier\n",
        "from sklearn.model_selection import StratifiedKFold\n",
        "from sklearn.metrics import accuracy_score, f1_score\n",
        "\n",
        "\n",
        "def evaluate_knn(X, y, k=3, folds=5):\n",
        "    skf = StratifiedKFold(n_splits=folds, shuffle=True, random_state=42)\n",
        "    acc_scores = []\n",
        "    f1_scores = []\n",
        "\n",
        "    for train_idx, test_idx in skf.split(X, y):\n",
        "        X_train, X_test = X[train_idx], X[test_idx]\n",
        "        y_train, y_test = y[train_idx], y[test_idx]\n",
        "\n",
        "        clf = KNeighborsClassifier(n_neighbors=k)\n",
        "        clf.fit(X_train, y_train)\n",
        "        y_pred = clf.predict(X_test)\n",
        "\n",
        "        acc_scores.append(accuracy_score(y_test, y_pred))\n",
        "        f1_scores.append(f1_score(y_test, y_pred, average='macro'))\n",
        "\n",
        "    return np.mean(acc_scores), np.mean(f1_scores)"
      ]
    },
    {
      "cell_type": "code",
      "execution_count": 105,
      "metadata": {},
      "outputs": [
        {
          "name": "stdout",
          "output_type": "stream",
          "text": [
            "('lbp',) → Acc: 0.3242, Macro-F1: 0.2160\n",
            "('glcm',) → Acc: 0.2389, Macro-F1: 0.1324\n",
            "('hog',) → Acc: 0.2972, Macro-F1: 0.1855\n",
            "('laws',) → Acc: 0.3166, Macro-F1: 0.2000\n",
            "('lbp', 'glcm') → Acc: 0.2414, Macro-F1: 0.1336\n",
            "('lbp', 'hog') → Acc: 0.2972, Macro-F1: 0.1855\n",
            "('lbp', 'laws') → Acc: 0.3579, Macro-F1: 0.2374\n",
            "('glcm', 'hog') → Acc: 0.2879, Macro-F1: 0.1556\n",
            "('glcm', 'laws') → Acc: 0.2414, Macro-F1: 0.1331\n",
            "('hog', 'laws') → Acc: 0.2971, Macro-F1: 0.1853\n",
            "('lbp', 'glcm', 'hog') → Acc: 0.2879, Macro-F1: 0.1556\n",
            "('lbp', 'glcm', 'laws') → Acc: 0.2422, Macro-F1: 0.1334\n",
            "('lbp', 'hog', 'laws') → Acc: 0.2971, Macro-F1: 0.1852\n",
            "('glcm', 'hog', 'laws') → Acc: 0.2881, Macro-F1: 0.1556\n",
            "('lbp', 'glcm', 'hog', 'laws') → Acc: 0.2881, Macro-F1: 0.1556\n",
            "\n",
            "Best combination: ('lbp', 'laws')\n",
            "   Accuracy: 0.3579, Macro-F1: 0.2374\n"
          ]
        }
      ],
      "source": [
        "from itertools import combinations\n",
        "\n",
        "results = []\n",
        "for r in range(1, len(methods)+1):\n",
        "    for combo in combinations(methods, r):\n",
        "        try:\n",
        "            X, y = load_and_concat_features(combo)\n",
        "            acc, f1 = evaluate_knn(X, y, k=3)\n",
        "            results.append((combo, acc, f1))\n",
        "            print(f\"{combo} → Acc: {acc:.4f}, Macro-F1: {f1:.4f}\")\n",
        "        except Exception as e:\n",
        "            print(f\"{combo} 조합에서 오류 발생: {e}\")\n",
        "\n",
        "# 최고 성능 조합 출력\n",
        "if results:\n",
        "    best = max(results, key=lambda x: x[2])\n",
        "    print(\"\\nBest combination:\", best[0])\n",
        "    print(f\"   Accuracy: {best[1]:.4f}, Macro-F1: {best[2]:.4f}\")\n",
        "else:\n",
        "    print(\"유효한 feature 조합 결과 없음\")"
      ]
    },
    {
      "cell_type": "markdown",
      "metadata": {},
      "source": [
        "### Feature Vector Extraction"
      ]
    },
    {
      "cell_type": "code",
      "execution_count": 106,
      "metadata": {},
      "outputs": [
        {
          "name": "stdout",
          "output_type": "stream",
          "text": [
            "Feature vector saved.\n",
            "X shape: (10292, 69)\n",
            "y shape: (10292,)\n"
          ]
        }
      ],
      "source": [
        "import os\n",
        "import numpy as np\n",
        "\n",
        "\n",
        "X_lbp = loaded['lbp']['features']\n",
        "X_laws = loaded['laws']['features']\n",
        "y_lbp = loaded['lbp']['labels']\n",
        "y_laws = loaded['laws']['labels']\n",
        "\n",
        "# 라벨 검증\n",
        "assert np.array_equal(y_lbp, y_laws), \"라벨이 일치하지 않습니다.\"\n",
        "\n",
        "# feature vector combination\n",
        "X_combined = np.concatenate([X_lbp, X_laws], axis=1)\n",
        "y_combined = y_lbp\n",
        "\n",
        "# 저장\n",
        "os.makedirs(\"./prepared_feature\", exist_ok=True)\n",
        "np.save('./prepared_feature/X_train_lbp_laws_a2.npy', X_combined)\n",
        "np.save('./prepared_feature/y_train_lbp_laws_a2.npy', y_combined)\n",
        "\n",
        "print(\"Feature vector saved.\")\n",
        "print(\"X shape:\", X_combined.shape)\n",
        "print(\"y shape:\", y_combined.shape)"
      ]
    },
    {
      "cell_type": "markdown",
      "metadata": {
        "id": "cxNRtiDuE59X"
      },
      "source": [
        "## Prepare test data"
      ]
    },
    {
      "cell_type": "code",
      "execution_count": 107,
      "metadata": {
        "colab": {
          "base_uri": "https://localhost:8080/"
        },
        "id": "gucFrN5eEaHz",
        "outputId": "4e54c578-2a8e-41bd-8aa6-77d565b9a869"
      },
      "outputs": [],
      "source": [
        "# !git clone https://github.com/hbcbh1999/recaptcha-dataset.git"
      ]
    },
    {
      "cell_type": "markdown",
      "metadata": {
        "id": "yjUnLwuZE8xy"
      },
      "source": [
        "### Preprocessing"
      ]
    },
    {
      "cell_type": "code",
      "execution_count": 108,
      "metadata": {
        "id": "ZXAX2YZsEkGT"
      },
      "outputs": [],
      "source": [
        "image_dir = \"./testset\"\n",
        "image_list = []\n",
        "\n",
        "for fname in sorted(os.listdir(image_dir)):\n",
        "    if fname.endswith(\".png\"):\n",
        "        img_path = os.path.join(image_dir, fname)\n",
        "        image = cv2.imread(img_path)\n",
        "\n",
        "        if image is None:\n",
        "            print(f\"이미지 로딩 실패: {img_path}\")\n",
        "            continue \n",
        "        \n",
        "        gray = cv2.cvtColor(image, cv2.COLOR_BGR2GRAY)\n",
        "        gray = cv2.equalizeHist(gray)\n",
        "\n",
        "        gray = cv2.GaussianBlur(gray, (3, 3), 0)\n",
        "\n",
        "        grad_x = cv2.Sobel(gray, cv2.CV_64F, 1, 0, ksize=3)\n",
        "        grad_y = cv2.Sobel(gray, cv2.CV_64F, 0, 1, ksize=3)\n",
        "\n",
        "        grad = cv2.magnitude(grad_x, grad_y)\n",
        "\n",
        "        grad = cv2.normalize(grad, None, 0, 255, cv2.NORM_MINMAX)\n",
        "        grad = grad.astype(np.uint8)\n",
        "        \n",
        "        combined = cv2.addWeighted(gray, 0.7, grad, 0.3, 0)\n",
        "        \n",
        "        image_list.append((fname, combined))"
      ]
    },
    {
      "cell_type": "markdown",
      "metadata": {
        "id": "k2S8OPdkhabM"
      },
      "source": [
        "## Feature extraction"
      ]
    },
    {
      "cell_type": "code",
      "execution_count": 109,
      "metadata": {},
      "outputs": [],
      "source": [
        "def norm_hist(hist):\n",
        "    # Normalize the histogram\n",
        "    hist = hist.astype('float')\n",
        "    hist /= hist.sum()\n",
        "    return hist"
      ]
    },
    {
      "cell_type": "markdown",
      "metadata": {
        "id": "QP9DlAdThipD"
      },
      "source": [
        "### LBP"
      ]
    },
    {
      "cell_type": "code",
      "execution_count": 110,
      "metadata": {
        "colab": {
          "base_uri": "https://localhost:8080/",
          "height": 331
        },
        "id": "GDlrmIUIhgEB",
        "outputId": "5bd169e1-5d31-4b03-e514-138ef1cab301"
      },
      "outputs": [],
      "source": [
        "lbp_features = []\n",
        "\n",
        "# LBP\n",
        "for fname, combined in image_list:\n",
        "    lbp = local_binary_pattern(combined, P=8, R=1, method='uniform')\n",
        "\n",
        "    hist_lbp, bin_lbp = np.histogram(lbp.ravel(), bins=60, range=(0, 60))\n",
        "    hist_lbp = norm_hist(hist_lbp)    # 64-d\n",
        "    lbp_features.append((fname, hist_lbp))"
      ]
    },
    {
      "cell_type": "markdown",
      "metadata": {
        "id": "UVMY-2qMhsWD"
      },
      "source": [
        "### Law's texture"
      ]
    },
    {
      "cell_type": "code",
      "execution_count": 111,
      "metadata": {
        "colab": {
          "base_uri": "https://localhost:8080/"
        },
        "id": "y9oDJdUDhraJ",
        "outputId": "b65358e1-dc1c-4dc2-9d1e-65e3564b7f18"
      },
      "outputs": [],
      "source": [
        "# Law's texture\n",
        "def laws_texture(gray):\n",
        "    (rows, cols) = gray.shape[:2]\n",
        "\n",
        "    smooth_kernel = (1/25)*np.ones((5,5))\n",
        "    gray_smooth = sg.convolve(gray, smooth_kernel,\"same\")\n",
        "    gray_processed = np.abs(gray - gray_smooth)\n",
        "\n",
        "    filter_vectors = np.array([[ 1,  4,  6,  4, 1],    # L5\n",
        "                               [-1, -2,  0,  2, 1],    # E5\n",
        "                               [-1,  0,  2,  0, 1],    # S5\n",
        "                               [ 1, -4,  6, -4, 1]])   # R5\n",
        "\n",
        "    # 0:L5L5, 1:L5E5, 2:L5S5, 3:L5R5,\n",
        "    # 4:E5L5, 5:E5E5, 6:E5S5, 7:E5R5,\n",
        "    # 8:S5L5, 9:S5E5, 10:S5S5, 11:S5R5,\n",
        "    # 12:R5L5, 13:R5E5, 14:R5S5, 15:R5R5\n",
        "    filters = list()\n",
        "    for i in range(4):\n",
        "        for j in range(4):\n",
        "            filters.append(np.matmul(filter_vectors[i][:].reshape(5,1),\n",
        "                                     filter_vectors[j][:].reshape(1,5)))\n",
        "\n",
        "    conv_maps = np.zeros((rows, cols,16))\n",
        "    for i in range(len(filters)):\n",
        "        conv_maps[:, :, i] = sg.convolve(gray_processed,\n",
        "                                         filters[i],'same')\n",
        "\n",
        "    texture_maps = list()\n",
        "    texture_maps.append((conv_maps[:, :, 1]+conv_maps[:, :, 4])//2)     # L5E5 / E5L5\n",
        "    texture_maps.append((conv_maps[:, :, 2]+conv_maps[:, :, 8])//2)     # L5S5 / S5L5\n",
        "    texture_maps.append((conv_maps[:, :, 3]+conv_maps[:, :, 12])//2)    # L5R5 / R5L5\n",
        "    texture_maps.append((conv_maps[:, :, 7]+conv_maps[:, :, 13])//2)    # E5R5 / R5E5\n",
        "    texture_maps.append((conv_maps[:, :, 6]+conv_maps[:, :, 9])//2)     # E5S5 / S5E5\n",
        "    texture_maps.append((conv_maps[:, :, 11]+conv_maps[:, :, 14])//2)   # S5R5 / R5S5\n",
        "    texture_maps.append(conv_maps[:, :, 10])                            # S5S5\n",
        "    texture_maps.append(conv_maps[:, :, 5])                             # E5E5\n",
        "    texture_maps.append(conv_maps[:, :, 15])                            # R5R5\n",
        "    texture_maps.append(conv_maps[:, :, 0])                             # L5L5 (use to norm TEM)\n",
        "\n",
        "    TEM = list()\n",
        "    for i in range(9):\n",
        "        TEM.append(np.abs(texture_maps[i]).sum() / np.abs(texture_maps[9]).sum())\n",
        "\n",
        "    return TEM\n",
        "\n",
        "\n",
        "laws_feature = []\n",
        "\n",
        "for fname, combined in image_list:\n",
        "    laws = laws_texture(combined)    # 9-d\n",
        "    laws_feature.append((fname, np.array(laws)))"
      ]
    },
    {
      "cell_type": "markdown",
      "metadata": {},
      "source": [
        "### Load .npy Files"
      ]
    },
    {
      "cell_type": "code",
      "execution_count": 112,
      "metadata": {},
      "outputs": [],
      "source": [
        "used_features = ['lbp', 'laws']\n",
        "feature_dir = \"./prepared_feature\"\n",
        "\n",
        "X_train_raw = np.load(os.path.join(feature_dir, \"X_train_lbp_laws_a2.npy\"))\n",
        "y_train = np.load(os.path.join(feature_dir, \"y_train_lbp_laws_a2.npy\"))\n",
        "\n",
        "pca = PCA(n_components=50)\n",
        "X_train = pca.fit_transform(X_train_raw)"
      ]
    },
    {
      "cell_type": "markdown",
      "metadata": {},
      "source": [
        "### Combine feature vectors"
      ]
    },
    {
      "cell_type": "code",
      "execution_count": 113,
      "metadata": {},
      "outputs": [],
      "source": [
        "test_features = []\n",
        "test_filenames = []\n",
        "\n",
        "for (fname1, lbp), (fname2, laws) in zip(lbp_features, laws_feature):\n",
        "    assert fname1 == fname2, f\"{fname1} != {fname2}\"\n",
        "    combined = np.concatenate([lbp, laws])\n",
        "    test_features.append(combined)\n",
        "    test_filenames.append(fname1)\n",
        "\n",
        "X_test_raw = np.array(test_features)\n",
        "\n",
        "X_test = pca.transform(X_test_raw)"
      ]
    },
    {
      "cell_type": "markdown",
      "metadata": {
        "id": "OlSt0QyUh3jw"
      },
      "source": [
        "### KNN"
      ]
    },
    {
      "cell_type": "code",
      "execution_count": 114,
      "metadata": {
        "colab": {
          "base_uri": "https://localhost:8080/"
        },
        "id": "Ad4y-3QSh5mA",
        "outputId": "651e6f61-167a-403e-d877-6c0251004301"
      },
      "outputs": [],
      "source": [
        "from sklearn.neighbors import KNeighborsClassifier\n",
        "\n",
        "classifier = KNeighborsClassifier(n_neighbors = 3)\n",
        "\n",
        "classifier.fit(X_train, y_train)\n",
        "predict_labels = classifier.predict(X_test)"
      ]
    },
    {
      "cell_type": "markdown",
      "metadata": {
        "id": "ZiNZFji3unCA"
      },
      "source": [
        "### Task 1: Classification"
      ]
    },
    {
      "cell_type": "code",
      "execution_count": 115,
      "metadata": {
        "colab": {
          "base_uri": "https://localhost:8080/"
        },
        "id": "NqEXhdlOIImd",
        "outputId": "bce76167-fd56-430b-9f7f-da8c869aa222"
      },
      "outputs": [
        {
          "name": "stdout",
          "output_type": "stream",
          "text": [
            "['Crosswalk' 'Hydrant' 'Car' 'Chimney' 'Car' 'Crosswalk' 'Bicycle'\n",
            " 'Traffic Light' 'Traffic Light' 'Car' 'Bicycle' 'Car' 'Hydrant' 'Bridge'\n",
            " 'Chimney' 'Car' 'Car' 'Bus' 'Hydrant' 'Car' 'Hydrant' 'Hydrant' 'Bus'\n",
            " 'Palm' 'Car' 'Bus' 'Bus' 'Crosswalk' 'Bicycle' 'Crosswalk' 'Car' 'Car'\n",
            " 'Palm' 'Car' 'Crosswalk' 'Bicycle' 'Car' 'Car' 'Bus' 'Bridge' 'Car'\n",
            " 'Bridge' 'Palm' 'Bus' 'Car' 'Bicycle' 'Bicycle' 'Palm' 'Palm'\n",
            " 'Traffic Light' 'Crosswalk' 'Bridge' 'Bicycle' 'Bridge' 'Hydrant'\n",
            " 'Crosswalk' 'Bicycle' 'Bus' 'Bicycle' 'Bridge' 'Car' 'Bicycle' 'Bridge'\n",
            " 'Car' 'Bicycle' 'Car' 'Car' 'Car' 'Car' 'Crosswalk' 'Bicycle' 'Crosswalk'\n",
            " 'Bicycle' 'Bicycle' 'Bridge' 'Car' 'Crosswalk' 'Car' 'Bridge' 'Chimney'\n",
            " 'Car' 'Car' 'Bicycle' 'Bicycle' 'Bus' 'Bicycle' 'Bus' 'Palm'\n",
            " 'Traffic Light' 'Bridge' 'Crosswalk' 'Car' 'Car' 'Bicycle' 'Car' 'Car'\n",
            " 'Car' 'Car' 'Car' 'Crosswalk']\n"
          ]
        }
      ],
      "source": [
        "from sklearn.neighbors import KNeighborsClassifier\n",
        "\n",
        "classifier = KNeighborsClassifier(n_neighbors = 3)\n",
        "\n",
        "classifier.fit(X_train, y_train)\n",
        "predict_labels = classifier.predict(X_test)\n",
        "\n",
        "print(predict_labels)    # array(100)"
      ]
    },
    {
      "cell_type": "code",
      "execution_count": 116,
      "metadata": {
        "id": "lZFRaZubI13R"
      },
      "outputs": [],
      "source": [
        "import csv\n",
        "\n",
        "# with open('c1_t1_a1.csv','w') as file :\n",
        "#     write = csv.writer(file)\n",
        "#     for i, predict_label in enumerate(predict_labels):\n",
        "#         write.writerow([f'query{i+1:03}.png', predict_label])\n",
        "\n",
        "with open('c1_t1_a2.csv','w') as file :\n",
        "    writer = csv.writer(file)\n",
        "    for fname, pred in zip(test_filenames, predict_labels):\n",
        "        writer.writerow([fname, pred])"
      ]
    },
    {
      "cell_type": "markdown",
      "metadata": {
        "id": "pOe3xwb0u1Vc"
      },
      "source": [
        "### Task 2: Retrieval"
      ]
    },
    {
      "cell_type": "code",
      "execution_count": 117,
      "metadata": {
        "id": "rcFV9gzcKoqd"
      },
      "outputs": [],
      "source": [
        "neigh_ind = classifier.kneighbors(X=X_test, n_neighbors=10, return_distance=False) # Top-10 results\n",
        "neigh_labels = np.array(y_train)[neigh_ind]"
      ]
    },
    {
      "cell_type": "code",
      "execution_count": 118,
      "metadata": {
        "colab": {
          "base_uri": "https://localhost:8080/"
        },
        "id": "xr0OWnr-vmq9",
        "outputId": "15b72e15-0852-4843-afd5-1473c3c1a574"
      },
      "outputs": [
        {
          "name": "stdout",
          "output_type": "stream",
          "text": [
            "[['Crosswalk' 'Crosswalk' 'Crosswalk' 'Crosswalk' 'Bicycle' 'Crosswalk'\n",
            "  'Crosswalk' 'Car' 'Crosswalk' 'Crosswalk']\n",
            " ['Motorcycle' 'Hydrant' 'Hydrant' 'Car' 'Car' 'Hydrant' 'Hydrant'\n",
            "  'Bicycle' 'Bicycle' 'Car']\n",
            " ['Motorcycle' 'Car' 'Car' 'Crosswalk' 'Crosswalk' 'Crosswalk' 'Bicycle'\n",
            "  'Crosswalk' 'Bus' 'Car']\n",
            " ['Palm' 'Traffic Light' 'Chimney' 'Palm' 'Palm' 'Palm' 'Car' 'Palm'\n",
            "  'Palm' 'Palm']\n",
            " ['Car' 'Car' 'Car' 'Car' 'Car' 'Car' 'Car' 'Car' 'Bicycle' 'Bicycle']\n",
            " ['Crosswalk' 'Crosswalk' 'Crosswalk' 'Crosswalk' 'Bus' 'Bus' 'Bridge'\n",
            "  'Crosswalk' 'Car' 'Crosswalk']\n",
            " ['Car' 'Bicycle' 'Traffic Light' 'Car' 'Traffic Light' 'Palm' 'Car'\n",
            "  'Bus' 'Hydrant' 'Car']\n",
            " ['Traffic Light' 'Crosswalk' 'Traffic Light' 'Car' 'Car' 'Traffic Light'\n",
            "  'Crosswalk' 'Bus' 'Car' 'Bicycle']\n",
            " ['Palm' 'Traffic Light' 'Traffic Light' 'Car' 'Car' 'Crosswalk' 'Palm'\n",
            "  'Car' 'Car' 'Car']\n",
            " ['Palm' 'Car' 'Hydrant' 'Car' 'Car' 'Car' 'Car' 'Car' 'Bus' 'Car']\n",
            " ['Bicycle' 'Bicycle' 'Car' 'Bicycle' 'Car' 'Bicycle' 'Crosswalk' 'Bus'\n",
            "  'Hydrant' 'Bus']\n",
            " ['Traffic Light' 'Car' 'Chimney' 'Palm' 'Car' 'Palm' 'Bridge' 'Palm'\n",
            "  'Palm' 'Palm']\n",
            " ['Hydrant' 'Crosswalk' 'Hydrant' 'Hydrant' 'Bus' 'Hydrant' 'Car'\n",
            "  'Hydrant' 'Hydrant' 'Palm']\n",
            " ['Bridge' 'Bridge' 'Bridge' 'Bridge' 'Bus' 'Car' 'Car' 'Bridge'\n",
            "  'Traffic Light' 'Bus']\n",
            " ['Chimney' 'Chimney' 'Palm' 'Palm' 'Car' 'Hydrant' 'Crosswalk' 'Palm'\n",
            "  'Car' 'Chimney']\n",
            " ['Car' 'Palm' 'Car' 'Palm' 'Car' 'Car' 'Traffic Light' 'Traffic Light'\n",
            "  'Traffic Light' 'Palm']\n",
            " ['Car' 'Car' 'Bridge' 'Bridge' 'Car' 'Car' 'Traffic Light'\n",
            "  'Traffic Light' 'Bus' 'Traffic Light']\n",
            " ['Car' 'Bus' 'Traffic Light' 'Bridge' 'Palm' 'Traffic Light'\n",
            "  'Traffic Light' 'Bus' 'Palm' 'Car']\n",
            " ['Hydrant' 'Car' 'Hydrant' 'Car' 'Bicycle' 'Bicycle' 'Bicycle' 'Hydrant'\n",
            "  'Hydrant' 'Bicycle']\n",
            " ['Car' 'Car' 'Palm' 'Palm' 'Bridge' 'Palm' 'Bicycle' 'Bridge' 'Palm'\n",
            "  'Chimney']\n",
            " ['Hydrant' 'Hydrant' 'Hydrant' 'Car' 'Hydrant' 'Crosswalk' 'Car'\n",
            "  'Hydrant' 'Hydrant' 'Bicycle']\n",
            " ['Hydrant' 'Hydrant' 'Car' 'Traffic Light' 'Bicycle' 'Car' 'Bicycle'\n",
            "  'Car' 'Car' 'Palm']\n",
            " ['Car' 'Bus' 'Bus' 'Bicycle' 'Car' 'Car' 'Car' 'Car' 'Car' 'Motorcycle']\n",
            " ['Palm' 'Palm' 'Traffic Light' 'Hydrant' 'Traffic Light' 'Car'\n",
            "  'Traffic Light' 'Car' 'Car' 'Bridge']\n",
            " ['Traffic Light' 'Car' 'Car' 'Car' 'Crosswalk' 'Palm' 'Car' 'Palm' 'Car'\n",
            "  'Car']\n",
            " ['Palm' 'Bus' 'Hydrant' 'Bus' 'Bus' 'Bus' 'Crosswalk' 'Crosswalk'\n",
            "  'Crosswalk' 'Crosswalk']\n",
            " ['Car' 'Bus' 'Crosswalk' 'Car' 'Car' 'Car' 'Palm' 'Car' 'Car' 'Car']\n",
            " ['Crosswalk' 'Car' 'Crosswalk' 'Car' 'Palm' 'Car' 'Car' 'Car' 'Bridge'\n",
            "  'Car']\n",
            " ['Bicycle' 'Bicycle' 'Crosswalk' 'Bicycle' 'Car' 'Crosswalk' 'Car'\n",
            "  'Crosswalk' 'Crosswalk' 'Crosswalk']\n",
            " ['Crosswalk' 'Crosswalk' 'Car' 'Car' 'Bicycle' 'Palm' 'Car' 'Car' 'Car'\n",
            "  'Crosswalk']\n",
            " ['Car' 'Bus' 'Car' 'Bus' 'Bicycle' 'Crosswalk' 'Bicycle' 'Crosswalk'\n",
            "  'Car' 'Crosswalk']\n",
            " ['Car' 'Car' 'Car' 'Crosswalk' 'Bicycle' 'Bus' 'Bus' 'Bicycle'\n",
            "  'Motorcycle' 'Bicycle']\n",
            " ['Palm' 'Car' 'Palm' 'Car' 'Car' 'Palm' 'Car' 'Car' 'Car' 'Palm']\n",
            " ['Car' 'Bicycle' 'Car' 'Hydrant' 'Bicycle' 'Bicycle' 'Traffic Light'\n",
            "  'Crosswalk' 'Car' 'Motorcycle']\n",
            " ['Crosswalk' 'Bicycle' 'Crosswalk' 'Crosswalk' 'Car' 'Bicycle' 'Bicycle'\n",
            "  'Car' 'Bicycle' 'Crosswalk']\n",
            " ['Crosswalk' 'Bicycle' 'Bus' 'Bicycle' 'Palm' 'Traffic Light' 'Palm'\n",
            "  'Crosswalk' 'Car' 'Car']\n",
            " ['Car' 'Car' 'Car' 'Car' 'Car' 'Palm' 'Palm' 'Bus' 'Traffic Light'\n",
            "  'Crosswalk']\n",
            " ['Car' 'Hydrant' 'Car' 'Palm' 'Car' 'Car' 'Car' 'Car' 'Bus' 'Bridge']\n",
            " ['Bicycle' 'Bus' 'Bus' 'Bicycle' 'Car' 'Bus' 'Bus' 'Bicycle' 'Car'\n",
            "  'Bicycle']\n",
            " ['Crosswalk' 'Car' 'Bridge' 'Car' 'Car' 'Car' 'Crosswalk' 'Crosswalk'\n",
            "  'Car' 'Car']\n",
            " ['Car' 'Car' 'Palm' 'Bus' 'Bridge' 'Car' 'Car' 'Car' 'Palm' 'Car']\n",
            " ['Bus' 'Bridge' 'Traffic Light' 'Palm' 'Bridge' 'Bridge' 'Car' 'Car'\n",
            "  'Bridge' 'Traffic Light']\n",
            " ['Palm' 'Car' 'Palm' 'Chimney' 'Crosswalk' 'Palm' 'Palm' 'Car' 'Chimney'\n",
            "  'Hydrant']\n",
            " ['Hydrant' 'Palm' 'Bus' 'Palm' 'Bus' 'Crosswalk' 'Palm' 'Crosswalk'\n",
            "  'Hydrant' 'Car']\n",
            " ['Palm' 'Car' 'Car' 'Traffic Light' 'Car' 'Palm' 'Car' 'Crosswalk'\n",
            "  'Palm' 'Palm']\n",
            " ['Bicycle' 'Crosswalk' 'Car' 'Bicycle' 'Crosswalk' 'Bicycle' 'Crosswalk'\n",
            "  'Bicycle' 'Traffic Light' 'Car']\n",
            " ['Bus' 'Bicycle' 'Bicycle' 'Hydrant' 'Hydrant' 'Car' 'Bicycle' 'Bicycle'\n",
            "  'Hydrant' 'Car']\n",
            " ['Palm' 'Palm' 'Bridge' 'Crosswalk' 'Car' 'Palm' 'Traffic Light' 'Bus'\n",
            "  'Palm' 'Car']\n",
            " ['Palm' 'Palm' 'Palm' 'Traffic Light' 'Car' 'Bridge' 'Traffic Light'\n",
            "  'Palm' 'Traffic Light' 'Car']\n",
            " ['Palm' 'Traffic Light' 'Traffic Light' 'Traffic Light' 'Traffic Light'\n",
            "  'Palm' 'Bridge' 'Palm' 'Traffic Light' 'Palm']\n",
            " ['Crosswalk' 'Bridge' 'Crosswalk' 'Crosswalk' 'Crosswalk' 'Crosswalk'\n",
            "  'Crosswalk' 'Crosswalk' 'Crosswalk' 'Palm']\n",
            " ['Bus' 'Car' 'Bridge' 'Bus' 'Car' 'Bicycle' 'Car' 'Bridge'\n",
            "  'Traffic Light' 'Car']\n",
            " ['Bridge' 'Traffic Light' 'Bicycle' 'Bus' 'Car' 'Car' 'Car' 'Bus' 'Bus'\n",
            "  'Crosswalk']\n",
            " ['Traffic Light' 'Crosswalk' 'Bridge' 'Bridge' 'Crosswalk' 'Bus' 'Car'\n",
            "  'Crosswalk' 'Car' 'Crosswalk']\n",
            " ['Hydrant' 'Hydrant' 'Palm' 'Palm' 'Hydrant' 'Palm' 'Hydrant' 'Hydrant'\n",
            "  'Hydrant' 'Bicycle']\n",
            " ['Bus' 'Crosswalk' 'Crosswalk' 'Bicycle' 'Bus' 'Bridge' 'Bus' 'Car'\n",
            "  'Crosswalk' 'Bus']\n",
            " ['Car' 'Bicycle' 'Crosswalk' 'Car' 'Car' 'Bicycle' 'Motorcycle'\n",
            "  'Bicycle' 'Car' 'Bicycle']\n",
            " ['Car' 'Bus' 'Palm' 'Car' 'Car' 'Palm' 'Palm' 'Car' 'Traffic Light'\n",
            "  'Bus']\n",
            " ['Car' 'Bicycle' 'Bus' 'Crosswalk' 'Car' 'Crosswalk' 'Car' 'Hydrant'\n",
            "  'Bicycle' 'Car']\n",
            " ['Bridge' 'Traffic Light' 'Car' 'Bus' 'Bus' 'Bus' 'Bus' 'Car' 'Bridge'\n",
            "  'Car']\n",
            " ['Palm' 'Car' 'Traffic Light' 'Traffic Light' 'Car' 'Car' 'Car' 'Palm'\n",
            "  'Traffic Light' 'Car']\n",
            " ['Bicycle' 'Car' 'Hydrant' 'Car' 'Crosswalk' 'Hydrant' 'Car' 'Car'\n",
            "  'Bicycle' 'Hydrant']\n",
            " ['Bridge' 'Car' 'Bus' 'Car' 'Crosswalk' 'Crosswalk' 'Car' 'Bus' 'Car'\n",
            "  'Bridge']\n",
            " ['Car' 'Car' 'Car' 'Bus' 'Car' 'Car' 'Bridge' 'Palm' 'Traffic Light'\n",
            "  'Bridge']\n",
            " ['Car' 'Bridge' 'Bicycle' 'Bridge' 'Car' 'Bus' 'Bus' 'Bicycle' 'Bridge'\n",
            "  'Bus']\n",
            " ['Car' 'Traffic Light' 'Palm' 'Car' 'Bus' 'Bus' 'Car' 'Car' 'Car' 'Palm']\n",
            " ['Bicycle' 'Car' 'Car' 'Bus' 'Car' 'Crosswalk' 'Motorcycle' 'Car'\n",
            "  'Crosswalk' 'Hydrant']\n",
            " ['Bicycle' 'Car' 'Car' 'Car' 'Car' 'Car' 'Car' 'Hydrant' 'Car' 'Car']\n",
            " ['Bridge' 'Car' 'Car' 'Bus' 'Bus' 'Traffic Light' 'Car' 'Traffic Light'\n",
            "  'Bus' 'Car']\n",
            " ['Crosswalk' 'Chimney' 'Crosswalk' 'Hydrant' 'Bridge' 'Hydrant' 'Car'\n",
            "  'Crosswalk' 'Bus' 'Bridge']\n",
            " ['Car' 'Bicycle' 'Palm' 'Bus' 'Bridge' 'Bicycle' 'Bus' 'Crosswalk' 'Car'\n",
            "  'Bicycle']\n",
            " ['Crosswalk' 'Crosswalk' 'Crosswalk' 'Crosswalk' 'Car' 'Car' 'Crosswalk'\n",
            "  'Bicycle' 'Crosswalk' 'Crosswalk']\n",
            " ['Bicycle' 'Car' 'Crosswalk' 'Bicycle' 'Bicycle' 'Bicycle' 'Hydrant'\n",
            "  'Crosswalk' 'Car' 'Bus']\n",
            " ['Bicycle' 'Car' 'Crosswalk' 'Car' 'Crosswalk' 'Bridge' 'Car' 'Car'\n",
            "  'Crosswalk' 'Crosswalk']\n",
            " ['Bridge' 'Bridge' 'Bridge' 'Bridge' 'Bridge' 'Bicycle' 'Bridge'\n",
            "  'Bridge' 'Bridge' 'Bridge']\n",
            " ['Crosswalk' 'Car' 'Hydrant' 'Bicycle' 'Car' 'Car' 'Car' 'Bicycle' 'Car'\n",
            "  'Palm']\n",
            " ['Bicycle' 'Crosswalk' 'Crosswalk' 'Crosswalk' 'Crosswalk' 'Crosswalk'\n",
            "  'Car' 'Palm' 'Crosswalk' 'Crosswalk']\n",
            " ['Palm' 'Car' 'Chimney' 'Bridge' 'Hydrant' 'Palm' 'Chimney' 'Car'\n",
            "  'Crosswalk' 'Crosswalk']\n",
            " ['Crosswalk' 'Bridge' 'Hydrant' 'Crosswalk' 'Bicycle' 'Car' 'Car' 'Bus'\n",
            "  'Crosswalk' 'Crosswalk']\n",
            " ['Traffic Light' 'Chimney' 'Palm' 'Hydrant' 'Car' 'Car' 'Bridge'\n",
            "  'Chimney' 'Car' 'Palm']\n",
            " ['Car' 'Car' 'Car' 'Car' 'Car' 'Palm' 'Palm' 'Car' 'Car' 'Palm']\n",
            " ['Car' 'Car' 'Traffic Light' 'Car' 'Car' 'Car' 'Car' 'Bridge' 'Car'\n",
            "  'Crosswalk']\n",
            " ['Bicycle' 'Bus' 'Car' 'Car' 'Crosswalk' 'Car' 'Car' 'Bus'\n",
            "  'Traffic Light' 'Traffic Light']\n",
            " ['Hydrant' 'Bicycle' 'Crosswalk' 'Crosswalk' 'Bicycle' 'Bicycle'\n",
            "  'Crosswalk' 'Hydrant' 'Crosswalk' 'Bicycle']\n",
            " ['Bus' 'Traffic Light' 'Hydrant' 'Hydrant' 'Traffic Light' 'Palm' 'Palm'\n",
            "  'Bus' 'Hydrant' 'Hydrant']\n",
            " ['Bicycle' 'Palm' 'Bicycle' 'Bicycle' 'Bridge' 'Car' 'Palm' 'Car'\n",
            "  'Motorcycle' 'Bicycle']\n",
            " ['Crosswalk' 'Bus' 'Car' 'Bus' 'Bicycle' 'Traffic Light' 'Crosswalk'\n",
            "  'Car' 'Bicycle' 'Car']\n",
            " ['Hydrant' 'Palm' 'Palm' 'Car' 'Crosswalk' 'Hydrant' 'Bus' 'Crosswalk'\n",
            "  'Bus' 'Traffic Light']\n",
            " ['Traffic Light' 'Traffic Light' 'Traffic Light' 'Palm' 'Bicycle'\n",
            "  'Traffic Light' 'Palm' 'Car' 'Car' 'Car']\n",
            " ['Bridge' 'Bridge' 'Bridge' 'Car' 'Car' 'Bridge' 'Bridge' 'Bus' 'Car'\n",
            "  'Car']\n",
            " ['Crosswalk' 'Crosswalk' 'Car' 'Bicycle' 'Crosswalk' 'Bicycle' 'Bus'\n",
            "  'Crosswalk' 'Crosswalk' 'Car']\n",
            " ['Bridge' 'Car' 'Car' 'Crosswalk' 'Car' 'Car' 'Car' 'Car' 'Bus'\n",
            "  'Crosswalk']\n",
            " ['Car' 'Car' 'Bicycle' 'Bicycle' 'Car' 'Bridge' 'Car' 'Car' 'Car'\n",
            "  'Crosswalk']\n",
            " ['Car' 'Bicycle' 'Hydrant' 'Hydrant' 'Car' 'Crosswalk' 'Car' 'Palm'\n",
            "  'Traffic Light' 'Bus']\n",
            " ['Bicycle' 'Car' 'Car' 'Crosswalk' 'Crosswalk' 'Crosswalk' 'Hydrant'\n",
            "  'Car' 'Bus' 'Car']\n",
            " ['Car' 'Car' 'Traffic Light' 'Traffic Light' 'Bridge' 'Bridge' 'Car'\n",
            "  'Car' 'Palm' 'Car']\n",
            " ['Motorcycle' 'Crosswalk' 'Car' 'Crosswalk' 'Crosswalk' 'Car'\n",
            "  'Crosswalk' 'Bicycle' 'Car' 'Crosswalk']\n",
            " ['Car' 'Palm' 'Car' 'Car' 'Car' 'Car' 'Car' 'Car' 'Traffic Light' 'Car']\n",
            " ['Crosswalk' 'Car' 'Car' 'Car' 'Bridge' 'Car' 'Car' 'Car'\n",
            "  'Traffic Light' 'Car']\n",
            " ['Crosswalk' 'Crosswalk' 'Crosswalk' 'Crosswalk' 'Crosswalk' 'Crosswalk'\n",
            "  'Crosswalk' 'Crosswalk' 'Crosswalk' 'Crosswalk']]\n"
          ]
        }
      ],
      "source": [
        "print(neigh_labels)    # array(100x10)"
      ]
    },
    {
      "cell_type": "code",
      "execution_count": 119,
      "metadata": {},
      "outputs": [],
      "source": [
        "import csv\n",
        "\n",
        "with open('c1_t2_a2.csv', 'w', newline='') as file:\n",
        "    writer = csv.writer(file)\n",
        "    for fname, neigh_label in zip(test_filenames, neigh_labels):\n",
        "        writer.writerow([fname] + list(neigh_label))"
      ]
    }
  ],
  "metadata": {
    "accelerator": "GPU",
    "colab": {
      "gpuType": "T4",
      "provenance": []
    },
    "kernelspec": {
      "display_name": "Python 3",
      "name": "python3"
    },
    "language_info": {
      "codemirror_mode": {
        "name": "ipython",
        "version": 3
      },
      "file_extension": ".py",
      "mimetype": "text/x-python",
      "name": "python",
      "nbconvert_exporter": "python",
      "pygments_lexer": "ipython3",
      "version": "3.12.0"
    }
  },
  "nbformat": 4,
  "nbformat_minor": 0
}

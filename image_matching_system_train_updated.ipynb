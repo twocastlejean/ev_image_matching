{
 "cells": [
  {
   "cell_type": "markdown",
   "metadata": {
    "id": "cxNRtiDuE59X"
   },
   "source": [
    "## Prepare labeled data"
   ]
  },
  {
   "cell_type": "code",
   "execution_count": null,
   "metadata": {
    "colab": {
     "base_uri": "https://localhost:8080/"
    },
    "id": "gucFrN5eEaHz",
    "outputId": "4e54c578-2a8e-41bd-8aa6-77d565b9a869"
   },
   "outputs": [],
   "source": [
    "import numpy as np\n",
    "\n",
    "\n",
    "methods = ['lbp', 'glcm', 'hog', 'laws']\n",
    "loaded = {}\n",
    "\n",
    "for method in methods:\n",
    "    data = np.load(f'./saved_features/{method}_features.npz')\n",
    "    loaded[method] = {\n",
    "        'features': data['features'],\n",
    "        'labels': data['labels']\n",
    "    }\n",
    "\n",
    "ref_method = methods[0]\n",
    "assert all((loaded[m]['labels'] == loaded[ref_method]['labels']).all() for m in methods), \"Label mismatch\"\n",
    "\n",
    "X = np.concatenate([loaded[m]['features'] for m in methods], axis=1)\n",
    "y = loaded[ref_method]['labels']"
   ]
  },
  {
   "cell_type": "markdown",
   "metadata": {},
   "source": [
    "### Feature Selection"
   ]
  },
  {
   "cell_type": "code",
   "execution_count": 20,
   "metadata": {},
   "outputs": [],
   "source": [
    "def load_and_concat_features(method_list):\n",
    "    feature_list = []\n",
    "    labels = None\n",
    "    for method in method_list:\n",
    "        data = loaded[method]\n",
    "        feature_list.append(data['features'])\n",
    "        if labels is None:\n",
    "            labels = data['labels']\n",
    "    X_concat = np.concatenate(feature_list, axis=1)\n",
    "    return X_concat, labels"
   ]
  },
  {
   "cell_type": "code",
   "execution_count": null,
   "metadata": {},
   "outputs": [],
   "source": [
    "from sklearn.neighbors import KNeighborsClassifier\n",
    "from sklearn.model_selection import StratifiedKFold\n",
    "from sklearn.metrics import accuracy_score, f1_score\n",
    "\n",
    "\n",
    "def evaluate_knn(X, y, k=3, folds=5):\n",
    "    skf = StratifiedKFold(n_splits=folds, shuffle=True, random_state=42)\n",
    "    acc_scores = []\n",
    "    f1_scores = []\n",
    "\n",
    "    for train_idx, test_idx in skf.split(X, y):\n",
    "        X_train, X_test = X[train_idx], X[test_idx]\n",
    "        y_train, y_test = y[train_idx], y[test_idx]\n",
    "\n",
    "        clf = KNeighborsClassifier(n_neighbors=k)\n",
    "        clf.fit(X_train, y_train)\n",
    "        y_pred = clf.predict(X_test)\n",
    "\n",
    "        acc_scores.append(accuracy_score(y_test, y_pred))\n",
    "        f1_scores.append(f1_score(y_test, y_pred, average='macro'))\n",
    "\n",
    "    return np.mean(acc_scores), np.mean(f1_scores)"
   ]
  },
  {
   "cell_type": "code",
   "execution_count": 25,
   "metadata": {},
   "outputs": [
    {
     "name": "stdout",
     "output_type": "stream",
     "text": [
      "('lbp',) → Acc: 0.3805, Macro-F1: 0.2632\n",
      "('glcm',) → Acc: 0.2370, Macro-F1: 0.1263\n",
      "('hog',) → Acc: 0.3153, Macro-F1: 0.1986\n",
      "('laws',) → Acc: 0.3150, Macro-F1: 0.1978\n",
      "('lbp', 'glcm') → Acc: 0.2377, Macro-F1: 0.1267\n",
      "('lbp', 'hog') → Acc: 0.3205, Macro-F1: 0.2044\n",
      "('lbp', 'laws') → Acc: 0.4022, Macro-F1: 0.2731\n",
      "('glcm', 'hog') → Acc: 0.2913, Macro-F1: 0.1542\n",
      "('glcm', 'laws') → Acc: 0.2373, Macro-F1: 0.1268\n",
      "('hog', 'laws') → Acc: 0.3275, Macro-F1: 0.2059\n",
      "('lbp', 'glcm', 'hog') → Acc: 0.2913, Macro-F1: 0.1543\n",
      "('lbp', 'glcm', 'laws') → Acc: 0.2377, Macro-F1: 0.1268\n",
      "('lbp', 'hog', 'laws') → Acc: 0.3298, Macro-F1: 0.2090\n",
      "('glcm', 'hog', 'laws') → Acc: 0.2911, Macro-F1: 0.1541\n",
      "('lbp', 'glcm', 'hog', 'laws') → Acc: 0.2913, Macro-F1: 0.1542\n",
      "\n",
      "✅ Best combination: ('lbp', 'laws')\n",
      "   Accuracy: 0.4022, Macro-F1: 0.2731\n"
     ]
    }
   ],
   "source": [
    "from itertools import combinations\n",
    "\n",
    "results = []\n",
    "for r in range(1, len(methods)+1):\n",
    "    for combo in combinations(methods, r):\n",
    "        try:\n",
    "            X, y = load_and_concat_features(combo)\n",
    "            acc, f1 = evaluate_knn(X, y, k=3)\n",
    "            results.append((combo, acc, f1))\n",
    "            print(f\"{combo} → Acc: {acc:.4f}, Macro-F1: {f1:.4f}\")\n",
    "        except Exception as e:\n",
    "            print(f\"{combo} 조합에서 오류 발생: {e}\")\n",
    "\n",
    "# 최고 성능 조합 출력\n",
    "if results:\n",
    "    best = max(results, key=lambda x: x[2])\n",
    "    print(\"\\n✅ Best combination:\", best[0])\n",
    "    print(f\"   Accuracy: {best[1]:.4f}, Macro-F1: {best[2]:.4f}\")\n",
    "else:\n",
    "    print(\"유효한 feature 조합 결과 없음\")"
   ]
  },
  {
   "cell_type": "markdown",
   "metadata": {
    "id": "ZiNZFji3unCA"
   },
   "source": [
    "### Feature Vector Extraction"
   ]
  },
  {
   "cell_type": "code",
   "execution_count": null,
   "metadata": {
    "colab": {
     "base_uri": "https://localhost:8080/"
    },
    "id": "NqEXhdlOIImd",
    "outputId": "bce76167-fd56-430b-9f7f-da8c869aa222"
   },
   "outputs": [
    {
     "name": "stdout",
     "output_type": "stream",
     "text": [
      "Feature vector saved.\n",
      "X shape: (10292, 73)\n",
      "y shape: (10292,)\n"
     ]
    }
   ],
   "source": [
    "import os\n",
    "import numpy as np\n",
    "\n",
    "\n",
    "FEATURE_PATH = './saved_features'\n",
    "\n",
    "def load_feature(method):\n",
    "    path = os.path.join(FEATURE_PATH, f\"{method}_features.npz\")\n",
    "    data = np.load(path)\n",
    "    return data['features'], data['labels']\n",
    "\n",
    "# (lbp + laws)\n",
    "X_lbp, y_lbp = load_feature('lbp')\n",
    "X_laws, y_laws = load_feature('laws')\n",
    "\n",
    "# 라벨 검증\n",
    "assert np.array_equal(y_lbp, y_laws), \"라벨이 일치하지 않습니다.\"\n",
    "\n",
    "# feature vector combination\n",
    "X_combined = np.concatenate([X_lbp, X_laws], axis=1)\n",
    "y_combined = y_lbp\n",
    "\n",
    "# 저장\n",
    "os.makedirs(\"./prepared\", exist_ok=True)\n",
    "np.save('./prepared/X_train_lbp_laws.npy', X_combined)\n",
    "np.save('./prepared/y_train_lbp_laws.npy', y_combined)\n",
    "\n",
    "print(\"Feature vector saved.\")\n",
    "print(\"X shape:\", X_combined.shape)\n",
    "print(\"y shape:\", y_combined.shape)"
   ]
  }
 ],
 "metadata": {
  "accelerator": "GPU",
  "colab": {
   "gpuType": "T4",
   "provenance": []
  },
  "kernelspec": {
   "display_name": "Python 3",
   "name": "python3"
  },
  "language_info": {
   "codemirror_mode": {
    "name": "ipython",
    "version": 3
   },
   "file_extension": ".py",
   "mimetype": "text/x-python",
   "name": "python",
   "nbconvert_exporter": "python",
   "pygments_lexer": "ipython3",
   "version": "3.12.0"
  }
 },
 "nbformat": 4,
 "nbformat_minor": 0
}

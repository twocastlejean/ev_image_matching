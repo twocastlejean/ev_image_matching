{
  "cells": [
    {
      "cell_type": "code",
      "execution_count": 2,
      "metadata": {
        "id": "IeOssKgYEQMS"
      },
      "outputs": [],
      "source": [
        "import os\n",
        "import cv2\n",
        "import numpy as np\n",
        "from matplotlib import pyplot as plt\n",
        "from skimage.feature import local_binary_pattern, hog, graycomatrix, graycoprops\n",
        "from scipy import signal as sg\n",
        "from tqdm import tqdm"
      ]
    },
    {
      "cell_type": "markdown",
      "metadata": {},
      "source": [
        "## Prepare dataset"
      ]
    },
    {
      "cell_type": "markdown",
      "metadata": {},
      "source": [
        "### feature extraction"
      ]
    },
    {
      "cell_type": "code",
      "execution_count": 3,
      "metadata": {},
      "outputs": [],
      "source": [
        "def preprocess_image(image_path):\n",
        "    image = cv2.imread(image_path)\n",
        "    gray = cv2.cvtColor(image, cv2.COLOR_BGR2GRAY)\n",
        "    gray = cv2.equalizeHist(gray)\n",
        "    return image, gray\n",
        "\n",
        "def extract_lbp(gray):\n",
        "    lbp = local_binary_pattern(gray, P=8, R=1)\n",
        "    # lbp = local_binary_pattern(gray, P=8, R=1, method='uniform')\n",
        "    hist, _ = np.histogram(lbp.ravel(), bins=64, range=(0, 256))\n",
        "    hist = hist.astype(\"float\")\n",
        "    hist /= hist.sum()\n",
        "    return hist\n",
        "\n",
        "def extract_glcm(gray):\n",
        "    glcm = graycomatrix(gray, distances=[1], angles=[0], levels=256, symmetric=False, normed=True)\n",
        "    features = [\n",
        "        graycoprops(glcm, 'contrast')[0, 0],\n",
        "        graycoprops(glcm, 'dissimilarity')[0, 0],\n",
        "        graycoprops(glcm, 'homogeneity')[0, 0],\n",
        "        graycoprops(glcm, 'energy')[0, 0],\n",
        "        graycoprops(glcm, 'correlation')[0, 0]\n",
        "    ]\n",
        "    return np.array(features)\n",
        "\n",
        "def extract_hog(gray):\n",
        "    resized = cv2.resize(gray, (128, 128))\n",
        "    features = hog(resized,\n",
        "                   orientations=8,\n",
        "                   pixels_per_cell=(16, 16),\n",
        "                   cells_per_block=(1, 1),\n",
        "                   visualize=False,\n",
        "                   channel_axis=-1)\n",
        "    return features\n",
        "\n",
        "def extract_laws(gray):\n",
        "    (rows, cols) = gray.shape[:2]\n",
        "    smooth_kernel = (1/25)*np.ones((5,5))\n",
        "    gray_smooth = sg.convolve(gray, smooth_kernel,\"same\")\n",
        "    gray_processed = np.abs(gray - gray_smooth)\n",
        "    \n",
        "    filter_vectors = np.array([[ 1,  4,  6,  4, 1],\n",
        "                               [-1, -2,  0,  2, 1],\n",
        "                               [-1,  0,  2,  0, 1],\n",
        "                               [ 1, -4,  6, -4, 1]])\n",
        "\n",
        "    filters = [np.matmul(fv1.reshape(5, 1), fv2.reshape(1, 5))\n",
        "               for fv1 in filter_vectors for fv2 in filter_vectors]\n",
        "\n",
        "    conv_maps = np.zeros((rows, cols, 16))\n",
        "    for i in range(len(filters)):\n",
        "        conv_maps[:, :, i] = sg.convolve(gray_processed, filters[i], 'same')\n",
        "\n",
        "    texture_maps = [\n",
        "        (conv_maps[:, :, 1]+conv_maps[:, :, 4])//2,\n",
        "        (conv_maps[:, :, 2]+conv_maps[:, :, 8])//2,\n",
        "        (conv_maps[:, :, 3]+conv_maps[:, :, 12])//2,\n",
        "        (conv_maps[:, :, 7]+conv_maps[:, :, 13])//2,\n",
        "        (conv_maps[:, :, 6]+conv_maps[:, :, 9])//2,\n",
        "        (conv_maps[:, :, 11]+conv_maps[:, :, 14])//2,\n",
        "        conv_maps[:, :, 10],\n",
        "        conv_maps[:, :, 5],\n",
        "        conv_maps[:, :, 15]\n",
        "    ]\n",
        "    norm_map = conv_maps[:, :, 0]\n",
        "    TEM = [np.abs(tm).sum() / np.abs(norm_map).sum() for tm in texture_maps]\n",
        "    TEM = np.array(TEM)\n",
        "    TEM = TEM / np.linalg.norm(TEM)\n",
        "    return TEM"
      ]
    },
    {
      "cell_type": "markdown",
      "metadata": {},
      "source": [
        "### process dataset"
      ]
    },
    {
      "cell_type": "code",
      "execution_count": 5,
      "metadata": {},
      "outputs": [],
      "source": [
        "def process_dataset(dataset_path, method):\n",
        "    features = []\n",
        "    labels = []\n",
        "\n",
        "    class_dirs = sorted([d for d in os.listdir(dataset_path) if os.path.isdir(os.path.join(dataset_path, d))])\n",
        "    \n",
        "    for cls in class_dirs:\n",
        "        class_path = os.path.join(dataset_path, cls)\n",
        "        image_files = sorted([f for f in os.listdir(class_path) if f.endswith('.png')])\n",
        "        \n",
        "        for img_file in tqdm(image_files, desc=f\"{cls:12s} - {method.upper()}\"):\n",
        "            img_path = os.path.join(class_path, img_file)\n",
        "            image, gray = preprocess_image(img_path)\n",
        "\n",
        "            if method == 'lbp':\n",
        "                feature = extract_lbp(gray)\n",
        "            elif method == 'glcm':\n",
        "                feature = extract_glcm(gray)\n",
        "            elif method == 'hog':\n",
        "                feature = extract_hog(image)\n",
        "            elif method == 'laws':\n",
        "                feature = extract_laws(gray)\n",
        "            else:\n",
        "                continue\n",
        "\n",
        "            features.append(feature)\n",
        "            labels.append(cls)\n",
        "\n",
        "    return np.array(features), np.array(labels)"
      ]
    },
    {
      "cell_type": "markdown",
      "metadata": {},
      "source": [
        "## Prepare labeled data"
      ]
    },
    {
      "cell_type": "code",
      "execution_count": 6,
      "metadata": {},
      "outputs": [
        {
          "name": "stderr",
          "output_type": "stream",
          "text": [
            "Bicycle      - LBP: 100%|██████████| 800/800 [00:02<00:00, 289.01it/s]\n",
            "Bridge       - LBP: 100%|██████████| 553/553 [00:02<00:00, 265.10it/s]\n",
            "Bus          - LBP: 100%|██████████| 1229/1229 [00:04<00:00, 284.79it/s]\n",
            "Car          - LBP: 100%|██████████| 3578/3578 [00:12<00:00, 288.43it/s]\n",
            "Chimney      - LBP: 100%|██████████| 56/56 [00:00<00:00, 280.89it/s]\n",
            "Crosswalk    - LBP: 100%|██████████| 1260/1260 [00:04<00:00, 308.36it/s]\n",
            "Hydrant      - LBP: 100%|██████████| 972/972 [00:02<00:00, 324.40it/s]\n",
            "Motorcycle   - LBP: 100%|██████████| 101/101 [00:00<00:00, 315.80it/s]\n",
            "Palm         - LBP: 100%|██████████| 932/932 [00:02<00:00, 338.44it/s]\n",
            "Traffic Light - LBP: 100%|██████████| 811/811 [00:02<00:00, 332.56it/s]\n",
            "Bicycle      - GLCM: 100%|██████████| 800/800 [00:02<00:00, 335.29it/s]\n",
            "Bridge       - GLCM: 100%|██████████| 553/553 [00:01<00:00, 325.05it/s]\n",
            "Bus          - GLCM: 100%|██████████| 1229/1229 [00:03<00:00, 340.03it/s]\n",
            "Car          - GLCM: 100%|██████████| 3578/3578 [00:10<00:00, 329.85it/s]\n",
            "Chimney      - GLCM: 100%|██████████| 56/56 [00:00<00:00, 277.05it/s]\n",
            "Crosswalk    - GLCM: 100%|██████████| 1260/1260 [00:03<00:00, 334.88it/s]\n",
            "Hydrant      - GLCM: 100%|██████████| 972/972 [00:02<00:00, 350.21it/s]\n",
            "Motorcycle   - GLCM: 100%|██████████| 101/101 [00:00<00:00, 325.36it/s]\n",
            "Palm         - GLCM: 100%|██████████| 932/932 [00:02<00:00, 333.83it/s]\n",
            "Traffic Light - GLCM: 100%|██████████| 811/811 [00:02<00:00, 317.38it/s]\n",
            "Bicycle      - HOG: 100%|██████████| 800/800 [00:03<00:00, 221.01it/s]\n",
            "Bridge       - HOG: 100%|██████████| 553/553 [00:02<00:00, 192.50it/s]\n",
            "Bus          - HOG: 100%|██████████| 1229/1229 [00:05<00:00, 208.35it/s]\n",
            "Car          - HOG: 100%|██████████| 3578/3578 [00:20<00:00, 173.66it/s]\n",
            "Chimney      - HOG: 100%|██████████| 56/56 [00:00<00:00, 155.07it/s]\n",
            "Crosswalk    - HOG: 100%|██████████| 1260/1260 [00:07<00:00, 179.30it/s]\n",
            "Hydrant      - HOG: 100%|██████████| 972/972 [00:06<00:00, 159.01it/s]\n",
            "Motorcycle   - HOG: 100%|██████████| 101/101 [00:00<00:00, 160.24it/s]\n",
            "Palm         - HOG: 100%|██████████| 932/932 [00:06<00:00, 152.97it/s]\n",
            "Traffic Light - HOG: 100%|██████████| 811/811 [00:04<00:00, 162.55it/s]\n",
            "Bicycle      - LAWS: 100%|██████████| 800/800 [00:14<00:00, 53.34it/s]\n",
            "Bridge       - LAWS: 100%|██████████| 553/553 [00:07<00:00, 72.06it/s]\n",
            "Bus          - LAWS: 100%|██████████| 1229/1229 [00:15<00:00, 80.57it/s]\n",
            "Car          - LAWS: 100%|██████████| 3578/3578 [00:47<00:00, 76.08it/s]\n",
            "Chimney      - LAWS: 100%|██████████| 56/56 [00:00<00:00, 78.20it/s]\n",
            "Crosswalk    - LAWS: 100%|██████████| 1260/1260 [00:15<00:00, 81.94it/s]\n",
            "Hydrant      - LAWS: 100%|██████████| 972/972 [00:12<00:00, 80.60it/s] \n",
            "Motorcycle   - LAWS: 100%|██████████| 101/101 [00:01<00:00, 74.68it/s]\n",
            "Palm         - LAWS: 100%|██████████| 932/932 [00:11<00:00, 80.06it/s] \n",
            "Traffic Light - LAWS: 100%|██████████| 811/811 [00:10<00:00, 76.41it/s]\n"
          ]
        }
      ],
      "source": [
        "dataset_path = \"./recaptcha-dataset/Large\"\n",
        "methods = [\"lbp\", \"glcm\", \"hog\", \"laws\"]\n",
        "\n",
        "loaded = {}\n",
        "\n",
        "for method in methods:\n",
        "    features, labels = process_dataset(dataset_path, method)\n",
        "    loaded[method] = {\n",
        "        'features': features,\n",
        "        'labels': labels\n",
        "    }\n",
        "\n",
        "ref_method = methods[0]\n",
        "assert all((loaded[m]['labels'] == loaded[ref_method]['labels']).all() for m in methods), \"Label mismatch\"\n",
        "\n",
        "X = np.concatenate([loaded[m]['features'] for m in methods], axis=1)\n",
        "y = loaded[ref_method]['labels']"
      ]
    },
    {
      "cell_type": "markdown",
      "metadata": {},
      "source": [
        "### feature selection"
      ]
    },
    {
      "cell_type": "code",
      "execution_count": 7,
      "metadata": {},
      "outputs": [],
      "source": [
        "def load_and_concat_features(method_list):\n",
        "    feature_list = []\n",
        "    labels = None\n",
        "    for method in method_list:\n",
        "        data = loaded[method]\n",
        "        feature_list.append(data['features'])\n",
        "        if labels is None:\n",
        "            labels = data['labels']\n",
        "    X_concat = np.concatenate(feature_list, axis=1)\n",
        "    return X_concat, labels"
      ]
    },
    {
      "cell_type": "code",
      "execution_count": 8,
      "metadata": {},
      "outputs": [],
      "source": [
        "from sklearn.neighbors import KNeighborsClassifier\n",
        "from sklearn.model_selection import StratifiedKFold\n",
        "from sklearn.metrics import accuracy_score, f1_score\n",
        "\n",
        "\n",
        "def evaluate_knn(X, y, k=3, folds=5):\n",
        "    skf = StratifiedKFold(n_splits=folds, shuffle=True, random_state=42)\n",
        "    acc_scores = []\n",
        "    f1_scores = []\n",
        "\n",
        "    for train_idx, test_idx in skf.split(X, y):\n",
        "        X_train, X_test = X[train_idx], X[test_idx]\n",
        "        y_train, y_test = y[train_idx], y[test_idx]\n",
        "\n",
        "        clf = KNeighborsClassifier(n_neighbors=k)\n",
        "        clf.fit(X_train, y_train)\n",
        "        y_pred = clf.predict(X_test)\n",
        "\n",
        "        acc_scores.append(accuracy_score(y_test, y_pred))\n",
        "        f1_scores.append(f1_score(y_test, y_pred, average='macro'))\n",
        "\n",
        "    return np.mean(acc_scores), np.mean(f1_scores)"
      ]
    },
    {
      "cell_type": "code",
      "execution_count": 9,
      "metadata": {},
      "outputs": [
        {
          "name": "stdout",
          "output_type": "stream",
          "text": [
            "('lbp',) → Acc: 0.3805, Macro-F1: 0.2632\n",
            "('glcm',) → Acc: 0.2370, Macro-F1: 0.1263\n",
            "('hog',) → Acc: 0.3153, Macro-F1: 0.1986\n",
            "('laws',) → Acc: 0.3150, Macro-F1: 0.1978\n",
            "('lbp', 'glcm') → Acc: 0.2377, Macro-F1: 0.1267\n",
            "('lbp', 'hog') → Acc: 0.3205, Macro-F1: 0.2044\n",
            "('lbp', 'laws') → Acc: 0.4022, Macro-F1: 0.2731\n",
            "('glcm', 'hog') → Acc: 0.2913, Macro-F1: 0.1542\n",
            "('glcm', 'laws') → Acc: 0.2373, Macro-F1: 0.1268\n",
            "('hog', 'laws') → Acc: 0.3275, Macro-F1: 0.2059\n",
            "('lbp', 'glcm', 'hog') → Acc: 0.2913, Macro-F1: 0.1543\n",
            "('lbp', 'glcm', 'laws') → Acc: 0.2377, Macro-F1: 0.1268\n",
            "('lbp', 'hog', 'laws') → Acc: 0.3298, Macro-F1: 0.2090\n",
            "('glcm', 'hog', 'laws') → Acc: 0.2911, Macro-F1: 0.1541\n",
            "('lbp', 'glcm', 'hog', 'laws') → Acc: 0.2913, Macro-F1: 0.1542\n",
            "\n",
            "Best combination: ('lbp', 'laws')\n",
            "   Accuracy: 0.4022, Macro-F1: 0.2731\n"
          ]
        }
      ],
      "source": [
        "from itertools import combinations\n",
        "\n",
        "results = []\n",
        "for r in range(1, len(methods)+1):\n",
        "    for combo in combinations(methods, r):\n",
        "        try:\n",
        "            X, y = load_and_concat_features(combo)\n",
        "            acc, f1 = evaluate_knn(X, y, k=3)\n",
        "            results.append((combo, acc, f1))\n",
        "            print(f\"{combo} → Acc: {acc:.4f}, Macro-F1: {f1:.4f}\")\n",
        "        except Exception as e:\n",
        "            print(f\"{combo} 조합에서 오류 발생: {e}\")\n",
        "\n",
        "# 최고 성능 조합 출력\n",
        "if results:\n",
        "    best = max(results, key=lambda x: x[2])\n",
        "    print(\"\\nBest combination:\", best[0])\n",
        "    print(f\"   Accuracy: {best[1]:.4f}, Macro-F1: {best[2]:.4f}\")\n",
        "else:\n",
        "    print(\"유효한 feature 조합 결과 없음\")"
      ]
    },
    {
      "cell_type": "markdown",
      "metadata": {},
      "source": [
        "### Feature Vector Extraction"
      ]
    },
    {
      "cell_type": "code",
      "execution_count": 11,
      "metadata": {},
      "outputs": [
        {
          "name": "stdout",
          "output_type": "stream",
          "text": [
            "Feature vector saved.\n",
            "X shape: (10292, 73)\n",
            "y shape: (10292,)\n"
          ]
        }
      ],
      "source": [
        "import os\n",
        "import numpy as np\n",
        "\n",
        "\n",
        "X_lbp = loaded['lbp']['features']\n",
        "X_laws = loaded['laws']['features']\n",
        "y_lbp = loaded['lbp']['labels']\n",
        "y_laws = loaded['laws']['labels']\n",
        "\n",
        "# 라벨 검증\n",
        "assert np.array_equal(y_lbp, y_laws), \"라벨이 일치하지 않습니다.\"\n",
        "\n",
        "# feature vector combination\n",
        "X_combined = np.concatenate([X_lbp, X_laws], axis=1)\n",
        "y_combined = y_lbp\n",
        "\n",
        "# 저장\n",
        "os.makedirs(\"./prepared_feature\", exist_ok=True)\n",
        "np.save('./prepared_feature/X_train_lbp_laws_a1.npy', X_combined)\n",
        "np.save('./prepared_feature/y_train_lbp_laws_a1.npy', y_combined)\n",
        "\n",
        "print(\"Feature vector saved.\")\n",
        "print(\"X shape:\", X_combined.shape)\n",
        "print(\"y shape:\", y_combined.shape)"
      ]
    },
    {
      "cell_type": "markdown",
      "metadata": {
        "id": "cxNRtiDuE59X"
      },
      "source": [
        "## Prepare test data"
      ]
    },
    {
      "cell_type": "code",
      "execution_count": null,
      "metadata": {
        "colab": {
          "base_uri": "https://localhost:8080/"
        },
        "id": "gucFrN5eEaHz",
        "outputId": "4e54c578-2a8e-41bd-8aa6-77d565b9a869"
      },
      "outputs": [
        {
          "name": "stdout",
          "output_type": "stream",
          "text": [
            "Cloning into 'recaptcha-dataset'...\n",
            "remote: Enumerating objects: 11754, done.\u001b[K\n",
            "remote: Counting objects: 100% (12/12), done.\u001b[K\n",
            "remote: Compressing objects: 100% (12/12), done.\u001b[K\n",
            "remote: Total 11754 (delta 5), reused 1 (delta 0), pack-reused 11742\u001b[K\n",
            "Receiving objects: 100% (11754/11754), 395.64 MiB | 22.89 MiB/s, done.\n",
            "Resolving deltas: 100% (6/6), done.\n",
            "Updating files: 100% (11779/11779), done.\n"
          ]
        }
      ],
      "source": [
        "# !git clone https://github.com/hbcbh1999/recaptcha-dataset.git"
      ]
    },
    {
      "cell_type": "markdown",
      "metadata": {
        "id": "yjUnLwuZE8xy"
      },
      "source": [
        "### Preprocessing"
      ]
    },
    {
      "cell_type": "code",
      "execution_count": 4,
      "metadata": {
        "id": "ZXAX2YZsEkGT"
      },
      "outputs": [],
      "source": [
        "image_dir = \"./testset\"\n",
        "image_list = []\n",
        "\n",
        "for fname in sorted(os.listdir(image_dir)):\n",
        "    if fname.endswith(\".png\"):\n",
        "        img_path = os.path.join(image_dir, fname)\n",
        "        image = cv2.imread(img_path)\n",
        "\n",
        "        if image is None:\n",
        "            print(f\"이미지 로딩 실패: {img_path}\")\n",
        "            continue \n",
        "        \n",
        "        gray = cv2.cvtColor(image, cv2.COLOR_BGR2GRAY)\n",
        "        gray = cv2.equalizeHist(gray)\n",
        "        image_list.append((fname, gray))"
      ]
    },
    {
      "cell_type": "markdown",
      "metadata": {
        "id": "k2S8OPdkhabM"
      },
      "source": [
        "## Feature extraction"
      ]
    },
    {
      "cell_type": "code",
      "execution_count": 5,
      "metadata": {},
      "outputs": [],
      "source": [
        "def norm_hist(hist):\n",
        "    # Normalize the histogram\n",
        "    hist = hist.astype('float')\n",
        "    hist /= hist.sum()\n",
        "    return hist"
      ]
    },
    {
      "cell_type": "markdown",
      "metadata": {
        "id": "QP9DlAdThipD"
      },
      "source": [
        "### LBP"
      ]
    },
    {
      "cell_type": "code",
      "execution_count": 6,
      "metadata": {
        "colab": {
          "base_uri": "https://localhost:8080/",
          "height": 331
        },
        "id": "GDlrmIUIhgEB",
        "outputId": "5bd169e1-5d31-4b03-e514-138ef1cab301"
      },
      "outputs": [],
      "source": [
        "lbp_features = []\n",
        "\n",
        "# LBP\n",
        "for fname, gray in image_list:\n",
        "    lbp = local_binary_pattern(gray, P=8, R=1)\n",
        "\n",
        "    hist_lbp, bin_lbp = np.histogram(lbp.ravel(), bins=64, range=(0, 256))\n",
        "    hist_lbp = norm_hist(hist_lbp)    # 64-d\n",
        "    lbp_features.append((fname, hist_lbp))"
      ]
    },
    {
      "cell_type": "markdown",
      "metadata": {
        "id": "UVMY-2qMhsWD"
      },
      "source": [
        "### Law's texture"
      ]
    },
    {
      "cell_type": "code",
      "execution_count": 7,
      "metadata": {
        "colab": {
          "base_uri": "https://localhost:8080/"
        },
        "id": "y9oDJdUDhraJ",
        "outputId": "b65358e1-dc1c-4dc2-9d1e-65e3564b7f18"
      },
      "outputs": [],
      "source": [
        "# Law's texture\n",
        "def laws_texture(gray):\n",
        "    (rows, cols) = gray.shape[:2]\n",
        "\n",
        "    smooth_kernel = (1/25)*np.ones((5,5))\n",
        "    gray_smooth = sg.convolve(gray, smooth_kernel,\"same\")\n",
        "    gray_processed = np.abs(gray - gray_smooth)\n",
        "\n",
        "    filter_vectors = np.array([[ 1,  4,  6,  4, 1],    # L5\n",
        "                               [-1, -2,  0,  2, 1],    # E5\n",
        "                               [-1,  0,  2,  0, 1],    # S5\n",
        "                               [ 1, -4,  6, -4, 1]])   # R5\n",
        "\n",
        "    # 0:L5L5, 1:L5E5, 2:L5S5, 3:L5R5,\n",
        "    # 4:E5L5, 5:E5E5, 6:E5S5, 7:E5R5,\n",
        "    # 8:S5L5, 9:S5E5, 10:S5S5, 11:S5R5,\n",
        "    # 12:R5L5, 13:R5E5, 14:R5S5, 15:R5R5\n",
        "    filters = list()\n",
        "    for i in range(4):\n",
        "        for j in range(4):\n",
        "            filters.append(np.matmul(filter_vectors[i][:].reshape(5,1),\n",
        "                                     filter_vectors[j][:].reshape(1,5)))\n",
        "\n",
        "    conv_maps = np.zeros((rows, cols,16))\n",
        "    for i in range(len(filters)):\n",
        "        conv_maps[:, :, i] = sg.convolve(gray_processed,\n",
        "                                         filters[i],'same')\n",
        "\n",
        "    texture_maps = list()\n",
        "    texture_maps.append((conv_maps[:, :, 1]+conv_maps[:, :, 4])//2)     # L5E5 / E5L5\n",
        "    texture_maps.append((conv_maps[:, :, 2]+conv_maps[:, :, 8])//2)     # L5S5 / S5L5\n",
        "    texture_maps.append((conv_maps[:, :, 3]+conv_maps[:, :, 12])//2)    # L5R5 / R5L5\n",
        "    texture_maps.append((conv_maps[:, :, 7]+conv_maps[:, :, 13])//2)    # E5R5 / R5E5\n",
        "    texture_maps.append((conv_maps[:, :, 6]+conv_maps[:, :, 9])//2)     # E5S5 / S5E5\n",
        "    texture_maps.append((conv_maps[:, :, 11]+conv_maps[:, :, 14])//2)   # S5R5 / R5S5\n",
        "    texture_maps.append(conv_maps[:, :, 10])                            # S5S5\n",
        "    texture_maps.append(conv_maps[:, :, 5])                             # E5E5\n",
        "    texture_maps.append(conv_maps[:, :, 15])                            # R5R5\n",
        "    texture_maps.append(conv_maps[:, :, 0])                             # L5L5 (use to norm TEM)\n",
        "\n",
        "    TEM = list()\n",
        "    for i in range(9):\n",
        "        TEM.append(np.abs(texture_maps[i]).sum() / np.abs(texture_maps[9]).sum())\n",
        "\n",
        "    return TEM\n",
        "\n",
        "\n",
        "laws_feature = []\n",
        "\n",
        "for fname, gray in image_list:\n",
        "    laws = laws_texture(gray)    # 9-d\n",
        "    laws_feature.append((fname, np.array(laws)))"
      ]
    },
    {
      "cell_type": "markdown",
      "metadata": {},
      "source": [
        "### Load .npy Files"
      ]
    },
    {
      "cell_type": "code",
      "execution_count": 8,
      "metadata": {},
      "outputs": [],
      "source": [
        "used_features = ['lbp', 'laws']\n",
        "feature_dir = \"./prepared_feature\"\n",
        "\n",
        "X_train = np.load(os.path.join(feature_dir, \"X_train_lbp_laws_a1.npy\"))\n",
        "y_train = np.load(os.path.join(feature_dir, \"y_train_lbp_laws_a1.npy\"))"
      ]
    },
    {
      "cell_type": "markdown",
      "metadata": {},
      "source": [
        "### Combine feature vectors"
      ]
    },
    {
      "cell_type": "code",
      "execution_count": 9,
      "metadata": {},
      "outputs": [],
      "source": [
        "test_features = []\n",
        "test_filenames = []\n",
        "\n",
        "for (fname1, lbp), (fname2, laws) in zip(lbp_features, laws_feature):\n",
        "    assert fname1 == fname2, f\"{fname1} != {fname2}\"\n",
        "    combined = np.concatenate([lbp, laws])\n",
        "    test_features.append(combined)\n",
        "    test_filenames.append(fname1)\n",
        "\n",
        "X_test = np.array(test_features)"
      ]
    },
    {
      "cell_type": "markdown",
      "metadata": {
        "id": "OlSt0QyUh3jw"
      },
      "source": [
        "### KNN"
      ]
    },
    {
      "cell_type": "code",
      "execution_count": 24,
      "metadata": {
        "colab": {
          "base_uri": "https://localhost:8080/"
        },
        "id": "Ad4y-3QSh5mA",
        "outputId": "651e6f61-167a-403e-d877-6c0251004301"
      },
      "outputs": [],
      "source": [
        "from sklearn.neighbors import KNeighborsClassifier\n",
        "from sklearn.metrics import classification_report\n",
        "\n",
        "classifier = KNeighborsClassifier(n_neighbors = 3)\n",
        "\n",
        "classifier.fit(X_train, y_train)\n",
        "predict_labels = classifier.predict(X_test)"
      ]
    },
    {
      "cell_type": "markdown",
      "metadata": {
        "id": "ZiNZFji3unCA"
      },
      "source": [
        "### Task 1: Classification"
      ]
    },
    {
      "cell_type": "code",
      "execution_count": 25,
      "metadata": {
        "colab": {
          "base_uri": "https://localhost:8080/"
        },
        "id": "NqEXhdlOIImd",
        "outputId": "bce76167-fd56-430b-9f7f-da8c869aa222"
      },
      "outputs": [
        {
          "name": "stdout",
          "output_type": "stream",
          "text": [
            "['Crosswalk' 'Car' 'Bus' 'Palm' 'Car' 'Crosswalk' 'Bicycle' 'Bicycle'\n",
            " 'Car' 'Car' 'Bicycle' 'Palm' 'Hydrant' 'Bridge' 'Bicycle' 'Car'\n",
            " 'Traffic Light' 'Car' 'Car' 'Palm' 'Car' 'Car' 'Crosswalk' 'Bus' 'Palm'\n",
            " 'Crosswalk' 'Crosswalk' 'Hydrant' 'Bicycle' 'Car' 'Car' 'Hydrant'\n",
            " 'Hydrant' 'Palm' 'Bicycle' 'Hydrant' 'Bridge' 'Car' 'Bicycle' 'Bicycle'\n",
            " 'Palm' 'Bicycle' 'Palm' 'Hydrant' 'Palm' 'Bus' 'Hydrant' 'Car' 'Car'\n",
            " 'Car' 'Crosswalk' 'Bicycle' 'Bicycle' 'Car' 'Bicycle' 'Car' 'Crosswalk'\n",
            " 'Palm' 'Car' 'Bridge' 'Palm' 'Bus' 'Crosswalk' 'Bridge' 'Bicycle' 'Car'\n",
            " 'Bus' 'Bicycle' 'Car' 'Bridge' 'Car' 'Crosswalk' 'Hydrant' 'Car'\n",
            " 'Traffic Light' 'Crosswalk' 'Bicycle' 'Bridge' 'Crosswalk' 'Palm' 'Palm'\n",
            " 'Palm' 'Car' 'Bicycle' 'Car' 'Bicycle' 'Bicycle' 'Car' 'Car' 'Bus'\n",
            " 'Bicycle' 'Bicycle' 'Traffic Light' 'Crosswalk' 'Bicycle' 'Car' 'Car'\n",
            " 'Car' 'Car' 'Bridge']\n"
          ]
        }
      ],
      "source": [
        "predict_labels = classifier.predict(test_features)\n",
        "print(predict_labels)    # array(100)"
      ]
    },
    {
      "cell_type": "code",
      "execution_count": 26,
      "metadata": {
        "id": "lZFRaZubI13R"
      },
      "outputs": [],
      "source": [
        "import csv\n",
        "\n",
        "# with open('c1_t1_a1.csv','w') as file :\n",
        "#     write = csv.writer(file)\n",
        "#     for i, predict_label in enumerate(predict_labels):\n",
        "#         write.writerow([f'query{i+1:03}.png', predict_label])\n",
        "\n",
        "with open('c1_t1_a1.csv','w') as file :\n",
        "    writer = csv.writer(file)\n",
        "    for fname, pred in zip(test_filenames, predict_labels):\n",
        "        writer.writerow([fname, pred])"
      ]
    },
    {
      "cell_type": "markdown",
      "metadata": {
        "id": "pOe3xwb0u1Vc"
      },
      "source": [
        "### Task 2: Retrieval"
      ]
    },
    {
      "cell_type": "code",
      "execution_count": 31,
      "metadata": {
        "id": "rcFV9gzcKoqd"
      },
      "outputs": [],
      "source": [
        "neigh_ind = classifier.kneighbors(X=test_features, n_neighbors=10, return_distance=False) # Top-10 results\n",
        "neigh_labels = np.array(y_train)[neigh_ind]"
      ]
    },
    {
      "cell_type": "code",
      "execution_count": 32,
      "metadata": {
        "colab": {
          "base_uri": "https://localhost:8080/"
        },
        "id": "xr0OWnr-vmq9",
        "outputId": "15b72e15-0852-4843-afd5-1473c3c1a574"
      },
      "outputs": [
        {
          "name": "stdout",
          "output_type": "stream",
          "text": [
            "[['Crosswalk' 'Bus' 'Crosswalk' 'Traffic Light' 'Crosswalk' 'Crosswalk'\n",
            "  'Car' 'Crosswalk' 'Bicycle' 'Crosswalk']\n",
            " ['Hydrant' 'Car' 'Car' 'Hydrant' 'Bus' 'Car' 'Crosswalk' 'Bus' 'Car'\n",
            "  'Bus']\n",
            " ['Bus' 'Car' 'Crosswalk' 'Crosswalk' 'Bus' 'Bicycle' 'Bicycle' 'Hydrant'\n",
            "  'Crosswalk' 'Crosswalk']\n",
            " ['Crosswalk' 'Palm' 'Palm' 'Palm' 'Palm' 'Traffic Light' 'Palm' 'Palm'\n",
            "  'Palm' 'Palm']\n",
            " ['Hydrant' 'Car' 'Car' 'Hydrant' 'Bicycle' 'Car' 'Car' 'Car' 'Hydrant'\n",
            "  'Crosswalk']\n",
            " ['Crosswalk' 'Hydrant' 'Crosswalk' 'Crosswalk' 'Crosswalk' 'Crosswalk'\n",
            "  'Crosswalk' 'Crosswalk' 'Bus' 'Bicycle']\n",
            " ['Bicycle' 'Car' 'Hydrant' 'Car' 'Car' 'Car' 'Hydrant' 'Traffic Light'\n",
            "  'Bicycle' 'Car']\n",
            " ['Bicycle' 'Bus' 'Crosswalk' 'Bus' 'Crosswalk' 'Crosswalk' 'Bicycle'\n",
            "  'Crosswalk' 'Bus' 'Bus']\n",
            " ['Car' 'Palm' 'Car' 'Car' 'Bicycle' 'Car' 'Car' 'Car' 'Car' 'Hydrant']\n",
            " ['Car' 'Traffic Light' 'Car' 'Hydrant' 'Hydrant' 'Car' 'Motorcycle'\n",
            "  'Crosswalk' 'Chimney' 'Traffic Light']\n",
            " ['Traffic Light' 'Hydrant' 'Bicycle' 'Traffic Light' 'Bicycle' 'Bus'\n",
            "  'Traffic Light' 'Bicycle' 'Bicycle' 'Car']\n",
            " ['Palm' 'Palm' 'Palm' 'Palm' 'Palm' 'Palm' 'Crosswalk' 'Hydrant' 'Palm'\n",
            "  'Bridge']\n",
            " ['Hydrant' 'Hydrant' 'Hydrant' 'Car' 'Crosswalk' 'Hydrant'\n",
            "  'Traffic Light' 'Hydrant' 'Bus' 'Chimney']\n",
            " ['Bridge' 'Bridge' 'Bus' 'Car' 'Traffic Light' 'Traffic Light' 'Bridge'\n",
            "  'Car' 'Traffic Light' 'Bridge']\n",
            " ['Bicycle' 'Hydrant' 'Palm' 'Palm' 'Crosswalk' 'Bicycle' 'Palm' 'Palm'\n",
            "  'Hydrant' 'Car']\n",
            " ['Car' 'Car' 'Car' 'Bus' 'Car' 'Car' 'Car' 'Car' 'Bus' 'Bridge']\n",
            " ['Traffic Light' 'Traffic Light' 'Traffic Light' 'Car' 'Motorcycle'\n",
            "  'Traffic Light' 'Bicycle' 'Bicycle' 'Traffic Light' 'Bicycle']\n",
            " ['Crosswalk' 'Car' 'Traffic Light' 'Car' 'Car' 'Car' 'Car' 'Car' 'Car'\n",
            "  'Traffic Light']\n",
            " ['Car' 'Car' 'Hydrant' 'Car' 'Bus' 'Hydrant' 'Car' 'Car' 'Car' 'Car']\n",
            " ['Palm' 'Crosswalk' 'Palm' 'Palm' 'Palm' 'Car' 'Car' 'Palm' 'Palm'\n",
            "  'Palm']\n",
            " ['Hydrant' 'Car' 'Traffic Light' 'Hydrant' 'Palm' 'Hydrant' 'Car' 'Palm'\n",
            "  'Car' 'Car']\n",
            " ['Car' 'Car' 'Bicycle' 'Palm' 'Bridge' 'Palm' 'Bus' 'Traffic Light'\n",
            "  'Traffic Light' 'Traffic Light']\n",
            " ['Crosswalk' 'Palm' 'Crosswalk' 'Car' 'Car' 'Car' 'Car' 'Crosswalk'\n",
            "  'Car' 'Bus']\n",
            " ['Bus' 'Traffic Light' 'Car' 'Car' 'Hydrant' 'Crosswalk' 'Bicycle'\n",
            "  'Traffic Light' 'Bus' 'Traffic Light']\n",
            " ['Palm' 'Car' 'Palm' 'Palm' 'Palm' 'Palm' 'Palm' 'Palm' 'Palm' 'Palm']\n",
            " ['Crosswalk' 'Crosswalk' 'Bus' 'Car' 'Palm' 'Crosswalk' 'Crosswalk'\n",
            "  'Crosswalk' 'Traffic Light' 'Bicycle']\n",
            " ['Crosswalk' 'Crosswalk' 'Palm' 'Crosswalk' 'Palm' 'Palm' 'Car'\n",
            "  'Traffic Light' 'Car' 'Crosswalk']\n",
            " ['Hydrant' 'Hydrant' 'Hydrant' 'Hydrant' 'Hydrant' 'Hydrant' 'Hydrant'\n",
            "  'Hydrant' 'Car' 'Traffic Light']\n",
            " ['Hydrant' 'Bicycle' 'Crosswalk' 'Hydrant' 'Bicycle' 'Hydrant' 'Bicycle'\n",
            "  'Car' 'Bicycle' 'Car']\n",
            " ['Car' 'Car' 'Crosswalk' 'Crosswalk' 'Palm' 'Car' 'Car' 'Crosswalk'\n",
            "  'Car' 'Car']\n",
            " ['Car' 'Car' 'Hydrant' 'Car' 'Hydrant' 'Bicycle' 'Bicycle' 'Crosswalk'\n",
            "  'Bicycle' 'Car']\n",
            " ['Hydrant' 'Hydrant' 'Car' 'Hydrant' 'Crosswalk' 'Crosswalk' 'Bicycle'\n",
            "  'Crosswalk' 'Crosswalk' 'Bridge']\n",
            " ['Hydrant' 'Hydrant' 'Hydrant' 'Palm' 'Hydrant' 'Hydrant' 'Palm'\n",
            "  'Hydrant' 'Hydrant' 'Hydrant']\n",
            " ['Palm' 'Palm' 'Car' 'Palm' 'Traffic Light' 'Palm' 'Palm' 'Palm' 'Palm'\n",
            "  'Crosswalk']\n",
            " ['Bicycle' 'Bicycle' 'Bus' 'Bicycle' 'Crosswalk' 'Hydrant' 'Bicycle'\n",
            "  'Bus' 'Bicycle' 'Crosswalk']\n",
            " ['Crosswalk' 'Hydrant' 'Hydrant' 'Hydrant' 'Hydrant' 'Hydrant' 'Hydrant'\n",
            "  'Hydrant' 'Hydrant' 'Hydrant']\n",
            " ['Crosswalk' 'Bridge' 'Palm' 'Palm' 'Crosswalk' 'Palm' 'Crosswalk'\n",
            "  'Crosswalk' 'Car' 'Car']\n",
            " ['Car' 'Car' 'Bridge' 'Car' 'Car' 'Car' 'Car' 'Car' 'Car'\n",
            "  'Traffic Light']\n",
            " ['Hydrant' 'Bicycle' 'Bus' 'Hydrant' 'Bicycle' 'Palm' 'Hydrant'\n",
            "  'Crosswalk' 'Hydrant' 'Motorcycle']\n",
            " ['Crosswalk' 'Bicycle' 'Hydrant' 'Crosswalk' 'Palm' 'Crosswalk'\n",
            "  'Crosswalk' 'Hydrant' 'Crosswalk' 'Hydrant']\n",
            " ['Palm' 'Palm' 'Palm' 'Palm' 'Palm' 'Hydrant' 'Palm' 'Palm' 'Car' 'Car']\n",
            " ['Bus' 'Bicycle' 'Crosswalk' 'Crosswalk' 'Crosswalk' 'Crosswalk'\n",
            "  'Crosswalk' 'Car' 'Crosswalk' 'Bicycle']\n",
            " ['Palm' 'Palm' 'Bicycle' 'Bicycle' 'Traffic Light' 'Car' 'Bicycle'\n",
            "  'Hydrant' 'Hydrant' 'Crosswalk']\n",
            " ['Hydrant' 'Hydrant' 'Hydrant' 'Bicycle' 'Bicycle' 'Bus' 'Hydrant'\n",
            "  'Crosswalk' 'Car' 'Hydrant']\n",
            " ['Palm' 'Palm' 'Palm' 'Car' 'Palm' 'Car' 'Palm' 'Palm' 'Traffic Light'\n",
            "  'Palm']\n",
            " ['Bus' 'Car' 'Bus' 'Bridge' 'Traffic Light' 'Bicycle' 'Car' 'Palm' 'Car'\n",
            "  'Bicycle']\n",
            " ['Bicycle' 'Hydrant' 'Hydrant' 'Hydrant' 'Hydrant' 'Bicycle' 'Hydrant'\n",
            "  'Hydrant' 'Hydrant' 'Bicycle']\n",
            " ['Car' 'Car' 'Car' 'Traffic Light' 'Traffic Light' 'Traffic Light' 'Car'\n",
            "  'Traffic Light' 'Car' 'Car']\n",
            " ['Car' 'Car' 'Car' 'Car' 'Car' 'Traffic Light' 'Palm' 'Car'\n",
            "  'Traffic Light' 'Bridge']\n",
            " ['Chimney' 'Traffic Light' 'Car' 'Palm' 'Traffic Light' 'Traffic Light'\n",
            "  'Palm' 'Hydrant' 'Traffic Light' 'Palm']\n",
            " ['Crosswalk' 'Crosswalk' 'Crosswalk' 'Crosswalk' 'Car' 'Crosswalk'\n",
            "  'Bicycle' 'Crosswalk' 'Crosswalk' 'Crosswalk']\n",
            " ['Bicycle' 'Crosswalk' 'Bicycle' 'Crosswalk' 'Crosswalk' 'Bus'\n",
            "  'Crosswalk' 'Crosswalk' 'Car' 'Bicycle']\n",
            " ['Traffic Light' 'Bicycle' 'Bicycle' 'Car' 'Car' 'Bridge' 'Crosswalk'\n",
            "  'Bicycle' 'Traffic Light' 'Palm']\n",
            " ['Car' 'Crosswalk' 'Palm' 'Crosswalk' 'Crosswalk' 'Palm' 'Car' 'Hydrant'\n",
            "  'Crosswalk' 'Bridge']\n",
            " ['Bicycle' 'Hydrant' 'Crosswalk' 'Crosswalk' 'Crosswalk' 'Hydrant'\n",
            "  'Crosswalk' 'Bus' 'Hydrant' 'Hydrant']\n",
            " ['Car' 'Car' 'Palm' 'Car' 'Palm' 'Bus' 'Crosswalk' 'Crosswalk' 'Hydrant'\n",
            "  'Bus']\n",
            " ['Crosswalk' 'Traffic Light' 'Crosswalk' 'Car' 'Crosswalk' 'Crosswalk'\n",
            "  'Car' 'Crosswalk' 'Bicycle' 'Crosswalk']\n",
            " ['Palm' 'Palm' 'Car' 'Palm' 'Palm' 'Palm' 'Car' 'Palm' 'Palm' 'Palm']\n",
            " ['Traffic Light' 'Car' 'Hydrant' 'Car' 'Car' 'Car' 'Car' 'Car' 'Car'\n",
            "  'Car']\n",
            " ['Bridge' 'Car' 'Palm' 'Crosswalk' 'Bridge' 'Bus' 'Car' 'Hydrant' 'Car'\n",
            "  'Palm']\n",
            " ['Palm' 'Palm' 'Car' 'Car' 'Palm' 'Palm' 'Traffic Light' 'Traffic Light'\n",
            "  'Car' 'Palm']\n",
            " ['Bus' 'Bus' 'Bridge' 'Hydrant' 'Hydrant' 'Hydrant' 'Bridge' 'Car' 'Car'\n",
            "  'Bus']\n",
            " ['Crosswalk' 'Crosswalk' 'Crosswalk' 'Crosswalk' 'Crosswalk' 'Car'\n",
            "  'Bicycle' 'Car' 'Car' 'Crosswalk']\n",
            " ['Traffic Light' 'Bridge' 'Car' 'Car' 'Bus' 'Car' 'Car' 'Car' 'Car'\n",
            "  'Car']\n",
            " ['Car' 'Crosswalk' 'Bicycle' 'Car' 'Crosswalk' 'Crosswalk' 'Crosswalk'\n",
            "  'Crosswalk' 'Bridge' 'Traffic Light']\n",
            " ['Chimney' 'Traffic Light' 'Car' 'Bicycle' 'Car' 'Bridge' 'Palm' 'Car'\n",
            "  'Palm' 'Palm']\n",
            " ['Crosswalk' 'Bus' 'Car' 'Car' 'Motorcycle' 'Crosswalk' 'Car' 'Car'\n",
            "  'Bus' 'Bus']\n",
            " ['Bus' 'Crosswalk' 'Bicycle' 'Bus' 'Hydrant' 'Hydrant' 'Hydrant'\n",
            "  'Hydrant' 'Crosswalk' 'Crosswalk']\n",
            " ['Crosswalk' 'Car' 'Car' 'Car' 'Palm' 'Traffic Light' 'Bus' 'Car' 'Car'\n",
            "  'Traffic Light']\n",
            " ['Palm' 'Bridge' 'Car' 'Palm' 'Crosswalk' 'Traffic Light' 'Hydrant'\n",
            "  'Bus' 'Crosswalk' 'Crosswalk']\n",
            " ['Car' 'Crosswalk' 'Car' 'Crosswalk' 'Car' 'Palm' 'Traffic Light' 'Car'\n",
            "  'Car' 'Crosswalk']\n",
            " ['Crosswalk' 'Crosswalk' 'Crosswalk' 'Crosswalk' 'Crosswalk' 'Crosswalk'\n",
            "  'Crosswalk' 'Bus' 'Bicycle' 'Crosswalk']\n",
            " ['Hydrant' 'Hydrant' 'Crosswalk' 'Bicycle' 'Crosswalk' 'Crosswalk'\n",
            "  'Crosswalk' 'Bus' 'Bicycle' 'Hydrant']\n",
            " ['Car' 'Car' 'Bicycle' 'Car' 'Car' 'Crosswalk' 'Car' 'Crosswalk' 'Car'\n",
            "  'Bicycle']\n",
            " ['Traffic Light' 'Traffic Light' 'Traffic Light' 'Traffic Light' 'Car'\n",
            "  'Bicycle' 'Car' 'Traffic Light' 'Traffic Light' 'Traffic Light']\n",
            " ['Crosswalk' 'Crosswalk' 'Crosswalk' 'Car' 'Car' 'Car' 'Bicycle'\n",
            "  'Hydrant' 'Crosswalk' 'Bridge']\n",
            " ['Bicycle' 'Bicycle' 'Bus' 'Crosswalk' 'Bus' 'Bicycle' 'Bus' 'Crosswalk'\n",
            "  'Bicycle' 'Palm']\n",
            " ['Bridge' 'Car' 'Hydrant' 'Car' 'Hydrant' 'Traffic Light' 'Bridge' 'Bus'\n",
            "  'Bus' 'Bridge']\n",
            " ['Crosswalk' 'Crosswalk' 'Crosswalk' 'Bicycle' 'Crosswalk' 'Crosswalk'\n",
            "  'Crosswalk' 'Crosswalk' 'Crosswalk' 'Crosswalk']\n",
            " ['Palm' 'Palm' 'Crosswalk' 'Palm' 'Palm' 'Crosswalk' 'Palm'\n",
            "  'Traffic Light' 'Palm' 'Traffic Light']\n",
            " ['Palm' 'Palm' 'Traffic Light' 'Palm' 'Palm' 'Palm' 'Palm' 'Palm' 'Palm'\n",
            "  'Palm']\n",
            " ['Palm' 'Palm' 'Traffic Light' 'Traffic Light' 'Palm' 'Palm' 'Car'\n",
            "  'Palm' 'Traffic Light' 'Palm']\n",
            " ['Chimney' 'Car' 'Car' 'Bridge' 'Traffic Light' 'Motorcycle' 'Car' 'Car'\n",
            "  'Bus' 'Chimney']\n",
            " ['Bicycle' 'Bicycle' 'Hydrant' 'Hydrant' 'Car' 'Hydrant' 'Bicycle'\n",
            "  'Palm' 'Bicycle' 'Bus']\n",
            " ['Car' 'Hydrant' 'Car' 'Car' 'Bus' 'Traffic Light' 'Car' 'Car' 'Car'\n",
            "  'Car']\n",
            " ['Bicycle' 'Hydrant' 'Car' 'Car' 'Hydrant' 'Car' 'Car' 'Hydrant' 'Car'\n",
            "  'Palm']\n",
            " ['Bicycle' 'Bridge' 'Car' 'Car' 'Crosswalk' 'Car' 'Car' 'Crosswalk'\n",
            "  'Car' 'Car']\n",
            " ['Palm' 'Car' 'Hydrant' 'Hydrant' 'Hydrant' 'Bus' 'Palm' 'Crosswalk'\n",
            "  'Bus' 'Bus']\n",
            " ['Car' 'Car' 'Hydrant' 'Hydrant' 'Hydrant' 'Hydrant' 'Palm'\n",
            "  'Traffic Light' 'Car' 'Bridge']\n",
            " ['Bus' 'Car' 'Traffic Light' 'Palm' 'Chimney' 'Bridge' 'Bridge' 'Car'\n",
            "  'Car' 'Bus']\n",
            " ['Bicycle' 'Crosswalk' 'Car' 'Crosswalk' 'Crosswalk' 'Car' 'Crosswalk'\n",
            "  'Crosswalk' 'Bicycle' 'Bicycle']\n",
            " ['Car' 'Bridge' 'Bicycle' 'Car' 'Car' 'Crosswalk' 'Car' 'Car' 'Car'\n",
            "  'Car']\n",
            " ['Traffic Light' 'Traffic Light' 'Palm' 'Traffic Light' 'Crosswalk'\n",
            "  'Traffic Light' 'Bicycle' 'Car' 'Car' 'Bicycle']\n",
            " ['Crosswalk' 'Hydrant' 'Crosswalk' 'Crosswalk' 'Crosswalk' 'Crosswalk'\n",
            "  'Bus' 'Crosswalk' 'Crosswalk' 'Palm']\n",
            " ['Bicycle' 'Hydrant' 'Bicycle' 'Hydrant' 'Crosswalk' 'Bicycle' 'Bicycle'\n",
            "  'Bus' 'Crosswalk' 'Crosswalk']\n",
            " ['Traffic Light' 'Palm' 'Car' 'Traffic Light' 'Palm' 'Traffic Light'\n",
            "  'Car' 'Palm' 'Palm' 'Traffic Light']\n",
            " ['Traffic Light' 'Car' 'Hydrant' 'Car' 'Crosswalk' 'Hydrant' 'Bicycle'\n",
            "  'Crosswalk' 'Hydrant' 'Hydrant']\n",
            " ['Motorcycle' 'Crosswalk' 'Car' 'Car' 'Bus' 'Car' 'Car' 'Traffic Light'\n",
            "  'Car' 'Car']\n",
            " ['Car' 'Car' 'Car' 'Traffic Light' 'Car' 'Car' 'Car' 'Bicycle'\n",
            "  'Traffic Light' 'Car']\n",
            " ['Bus' 'Crosswalk' 'Bridge' 'Bicycle' 'Crosswalk' 'Crosswalk' 'Car'\n",
            "  'Crosswalk' 'Bridge' 'Bicycle']]\n"
          ]
        }
      ],
      "source": [
        "print(neigh_labels)    # array(100x10)"
      ]
    },
    {
      "cell_type": "code",
      "execution_count": 33,
      "metadata": {},
      "outputs": [],
      "source": [
        "import csv\n",
        "\n",
        "with open('c1_t2_a1.csv', 'w', newline='') as file:\n",
        "    writer = csv.writer(file)\n",
        "    for fname, neigh_label in zip(test_filenames, neigh_labels):\n",
        "        writer.writerow([fname] + list(neigh_label))"
      ]
    }
  ],
  "metadata": {
    "accelerator": "GPU",
    "colab": {
      "gpuType": "T4",
      "provenance": []
    },
    "kernelspec": {
      "display_name": "Python 3",
      "name": "python3"
    },
    "language_info": {
      "codemirror_mode": {
        "name": "ipython",
        "version": 3
      },
      "file_extension": ".py",
      "mimetype": "text/x-python",
      "name": "python",
      "nbconvert_exporter": "python",
      "pygments_lexer": "ipython3",
      "version": "3.12.0"
    }
  },
  "nbformat": 4,
  "nbformat_minor": 0
}
